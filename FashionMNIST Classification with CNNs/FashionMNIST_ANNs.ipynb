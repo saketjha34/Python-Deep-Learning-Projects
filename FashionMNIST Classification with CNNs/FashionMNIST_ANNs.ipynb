{
  "cells": [
    {
      "cell_type": "markdown",
      "metadata": {
        "id": "gfKVzsVXoqyR"
      },
      "source": [
        "# 03. PyTorch IMAGE CLASSIFICATION\n",
        "\n",
        "[Computer vision](https://en.wikipedia.org/wiki/Computer_vision) is the art of teaching a computer to see.\n",
        "\n",
        "For example, it could involve building a model to classify whether a photo is of a cat or a dog ([binary classification](https://developers.google.com/machine-learning/glossary#binary-classification)).\n",
        "\n",
        "Or whether a photo is of a cat, dog or chicken ([multi-class classification](https://developers.google.com/machine-learning/glossary#multi-class-classification)).\n",
        "\n",
        "Or identifying where a car appears in a video frame ([object detection](https://en.wikipedia.org/wiki/Object_detection)).\n",
        "\n",
        "Or figuring out where different objects in an image can be separated ([panoptic segmentation](https://arxiv.org/abs/1801.00868)).\n",
        "\n",
        "![example computer vision problems](https://raw.githubusercontent.com/mrdbourke/pytorch-deep-learning/main/images/03-computer-vision-problems.png)\n",
        "*Example computer vision problems for binary classification, multiclass classification, object detection and segmentation.*"
      ]
    },
    {
      "cell_type": "markdown",
      "metadata": {
        "id": "Lv8Uh7vFoqyV"
      },
      "source": [
        "## What we're going to cover\n",
        "\n",
        "We're going to apply the PyTorch Workflow we've been learning in the past couple of sections to computer vision.\n",
        "\n",
        "![a PyTorch workflow with a computer vision focus](https://raw.githubusercontent.com/mrdbourke/pytorch-deep-learning/main/images/03-pytorch-computer-vision-workflow.png)\n",
        "\n",
        "Specifically, we're going to cover:\n",
        "\n",
        "| **Topic** | **Contents** |\n",
        "| ----- | ----- |\n",
        "| **0. Computer vision libraries in PyTorch** | PyTorch has a bunch of built-in helpful computer vision libraries, let's check them out.  |\n",
        "| **1. Load data** | To practice computer vision, we'll start with some images of different pieces of clothing from [FashionMNIST](https://github.com/zalandoresearch/fashion-mnist). |\n",
        "| **2. Prepare data** | We've got some images, let's load them in with a [PyTorch `DataLoader`](https://pytorch.org/docs/stable/data.html) so we can use them with our training loop. |\n",
        "| **3. Model 0: Building a baseline model** | Here we'll create a multi-class classification model to learn patterns in the data, we'll also choose a **loss function**, **optimizer** and build a **training loop**. |\n",
        "| **4. Making predictions and evaluting model 0** | Let's make some predictions with our baseline model and evaluate them. |\n",
        "| **5. Setup device agnostic code for future models** | It's best practice to write device-agnostic code, so let's set it up. |\n",
        "| **6. Model 1: Adding non-linearity** | Experimenting is a large part of machine learning, let's try and improve upon our baseline model by adding non-linear layers. |\n",
        "| **7. Model 2: Convolutional Neural Network (CNN)** | Time to get computer vision specific and introduce the powerful convolutional neural network architecture. |\n",
        "| **8. Comparing our models** | We've built three different models, let's compare them. |\n",
        "| **9. Evaluating our best model** | Let's make some predictons on random images and evaluate our best model. |\n",
        "| **10. Making a confusion matrix** | A confusion matrix is a great way to evaluate a classification model, let's see how we can make one. |\n",
        "| **11. Saving and loading the best performing model** | Since we might want to use our model for later, let's save it and make sure it loads back in correctly. |"
      ]
    },
    {
      "cell_type": "markdown",
      "metadata": {
        "id": "jf2eCSlboqyY"
      },
      "source": [
        "## 0. Computer vision libraries in PyTorch\n",
        "\n",
        "Before we get started writing code, let's talk about some PyTorch computer vision libraries you should be aware of.\n",
        "\n",
        "| PyTorch module | What does it do? |\n",
        "| ----- | ----- |\n",
        "| [`torchvision`](https://pytorch.org/vision/stable/index.html) | Contains datasets, model architectures and image transformations often used for computer vision problems. |\n",
        "| [`torchvision.datasets`](https://pytorch.org/vision/stable/datasets.html) | Here you'll find many example computer vision datasets for a range of problems from image classification, object detection, image captioning, video classification and more. It also contains [a series of base classes for making custom datasets](https://pytorch.org/vision/stable/datasets.html#base-classes-for-custom-datasets). |\n",
        "| [`torchvision.models`](https://pytorch.org/vision/stable/models.html) | This module contains well-performing and commonly used computer vision model architectures implemented in PyTorch, you can use these with your own problems. |\n",
        "| [`torchvision.transforms`](https://pytorch.org/vision/stable/transforms.html) | Often images need to be transformed (turned into numbers/processed/augmented) before being used with a model, common image transformations are found here. |\n",
        "| [`torch.utils.data.Dataset`](https://pytorch.org/docs/stable/data.html#torch.utils.data.Dataset) | Base dataset class for PyTorch.  |\n",
        "| [`torch.utils.data.DataLoader`](https://pytorch.org/docs/stable/data.html#module-torch.utils.data) | Creates a Python iterable over a dataset (created with `torch.utils.data.Dataset`). |\n",
        "\n",
        "> **Note:** The `torch.utils.data.Dataset` and `torch.utils.data.DataLoader` classes aren't only for computer vision in PyTorch, they are capable of dealing with many different types of data.\n",
        "\n",
        "Now we've covered some of the most important PyTorch computer vision libraries, let's import the relevant dependencies.\n"
      ]
    },
    {
      "cell_type": "code",
      "execution_count": 3,
      "metadata": {
        "colab": {
          "base_uri": "https://localhost:8080/"
        },
        "id": "xXzOnXxooqyY",
        "outputId": "ad81434c-f4e8-492c-b428-d8dd4e70f5d7"
      },
      "outputs": [
        {
          "name": "stdout",
          "output_type": "stream",
          "text": [
            "Using device: cpu\n"
          ]
        }
      ],
      "source": [
        "import torch\n",
        "from torch import nn\n",
        "import torchvision\n",
        "from torchvision import datasets\n",
        "from torchvision.transforms import ToTensor\n",
        "import matplotlib.pyplot as plt\n",
        "\n",
        "device = \"cuda\" if torch.cuda.is_available() else \"cpu\"\n",
        "print(f\"Using device: {device}\")"
      ]
    },
    {
      "cell_type": "markdown",
      "metadata": {
        "id": "EiV2r76goqya"
      },
      "source": [
        "## 1. Getting a dataset\n",
        "\n",
        "To begin working on a computer vision problem, let's get a computer vision dataset.\n",
        "\n",
        "We're going to start with FashionMNIST.\n",
        "\n",
        "MNIST stands for Modified National Institute of Standards and Technology.\n",
        "\n",
        "The [original MNIST dataset](https://en.wikipedia.org/wiki/MNIST_database) contains thousands of examples of handwritten digits (from 0 to 9) and was used to build computer vision models to identify numbers for postal services.\n",
        "\n",
        "[FashionMNIST](https://github.com/zalandoresearch/fashion-mnist), made by Zalando Research, is a similar setup.\n",
        "\n",
        "Except it contains grayscale images of 10 different kinds of clothing.\n",
        "\n",
        "![example image of FashionMNIST](https://raw.githubusercontent.com/mrdbourke/pytorch-deep-learning/main/images/03-fashion-mnist-slide.png)\n",
        "*`torchvision.datasets` contains a lot of example datasets you can use to practice writing computer vision code on. FashionMNIST is one of those datasets. And since it has 10 different image classes (different types of clothing), it's a multi-class classification problem.*\n",
        "\n",
        "Later, we'll be building a computer vision neural network to identify the different styles of clothing in these images.\n",
        "\n",
        "PyTorch has a bunch of common computer vision datasets stored in `torchvision.datasets`.\n",
        "\n",
        "Including FashionMNIST in [`torchvision.datasets.FashionMNIST()`](https://pytorch.org/vision/main/generated/torchvision.datasets.FashionMNIST.html).\n",
        "\n",
        "To download it, we provide the following parameters:\n",
        "* `root: str` - which folder do you want to download the data to?\n",
        "* `train: Bool` - do you want the training or test split?\n",
        "* `download: Bool` - should the data be downloaded?\n",
        "* `transform: torchvision.transforms` - what transformations would you like to do on the data?\n",
        "* `target_transform` - you can transform the targets (labels) if you like too.\n",
        "\n",
        "Many other datasets in `torchvision` have these parameter options."
      ]
    },
    {
      "cell_type": "code",
      "execution_count": 4,
      "metadata": {
        "colab": {
          "base_uri": "https://localhost:8080/"
        },
        "id": "ng44GD2ooqya",
        "outputId": "d5d50c42-29fd-4d13-fa01-ab77d8f8b061"
      },
      "outputs": [],
      "source": [
        "train_data = datasets.FashionMNIST(\n",
        "    train = True,\n",
        "    root = 'dataset/',\n",
        "    download = True,\n",
        "    transform = ToTensor(),\n",
        "    target_transform=None\n",
        ")"
      ]
    },
    {
      "cell_type": "code",
      "execution_count": 5,
      "metadata": {
        "id": "8L9CsbRqoqyb"
      },
      "outputs": [],
      "source": [
        "test_data = datasets.FashionMNIST(\n",
        "    root=\"dataset/\",\n",
        "    train=False, # get test data\n",
        "    download=True,\n",
        "    transform=ToTensor()\n",
        ")"
      ]
    },
    {
      "cell_type": "code",
      "execution_count": 6,
      "metadata": {
        "colab": {
          "base_uri": "https://localhost:8080/"
        },
        "id": "S87abzGwoqyb",
        "outputId": "efe751f1-a12e-42a5-b838-21bddd58e2ed"
      },
      "outputs": [
        {
          "data": {
            "text/plain": [
              "(tensor([[[0.0000, 0.0000, 0.0000, 0.0000, 0.0000, 0.0000, 0.0000, 0.0000,\n",
              "           0.0000, 0.0000, 0.0000, 0.0000, 0.0000, 0.0000, 0.0000, 0.0000,\n",
              "           0.0000, 0.0000, 0.0000, 0.0000, 0.0000, 0.0000, 0.0000, 0.0000,\n",
              "           0.0000, 0.0000, 0.0000, 0.0000],\n",
              "          [0.0000, 0.0000, 0.0000, 0.0000, 0.0000, 0.0000, 0.0000, 0.0000,\n",
              "           0.0000, 0.0000, 0.0000, 0.0000, 0.0000, 0.0000, 0.0000, 0.0000,\n",
              "           0.0000, 0.0000, 0.0000, 0.0000, 0.0000, 0.0000, 0.0000, 0.0000,\n",
              "           0.0000, 0.0000, 0.0000, 0.0000],\n",
              "          [0.0000, 0.0000, 0.0000, 0.0000, 0.0000, 0.0000, 0.0000, 0.0000,\n",
              "           0.0000, 0.0000, 0.0000, 0.0000, 0.0000, 0.0000, 0.0000, 0.0000,\n",
              "           0.0000, 0.0000, 0.0000, 0.0000, 0.0000, 0.0000, 0.0000, 0.0000,\n",
              "           0.0000, 0.0000, 0.0000, 0.0000],\n",
              "          [0.0000, 0.0000, 0.0000, 0.0000, 0.0000, 0.0000, 0.0000, 0.0000,\n",
              "           0.0000, 0.0000, 0.0000, 0.0000, 0.0039, 0.0000, 0.0000, 0.0510,\n",
              "           0.2863, 0.0000, 0.0000, 0.0039, 0.0157, 0.0000, 0.0000, 0.0000,\n",
              "           0.0000, 0.0039, 0.0039, 0.0000],\n",
              "          [0.0000, 0.0000, 0.0000, 0.0000, 0.0000, 0.0000, 0.0000, 0.0000,\n",
              "           0.0000, 0.0000, 0.0000, 0.0000, 0.0118, 0.0000, 0.1412, 0.5333,\n",
              "           0.4980, 0.2431, 0.2118, 0.0000, 0.0000, 0.0000, 0.0039, 0.0118,\n",
              "           0.0157, 0.0000, 0.0000, 0.0118],\n",
              "          [0.0000, 0.0000, 0.0000, 0.0000, 0.0000, 0.0000, 0.0000, 0.0000,\n",
              "           0.0000, 0.0000, 0.0000, 0.0000, 0.0235, 0.0000, 0.4000, 0.8000,\n",
              "           0.6902, 0.5255, 0.5647, 0.4824, 0.0902, 0.0000, 0.0000, 0.0000,\n",
              "           0.0000, 0.0471, 0.0392, 0.0000],\n",
              "          [0.0000, 0.0000, 0.0000, 0.0000, 0.0000, 0.0000, 0.0000, 0.0000,\n",
              "           0.0000, 0.0000, 0.0000, 0.0000, 0.0000, 0.0000, 0.6078, 0.9255,\n",
              "           0.8118, 0.6980, 0.4196, 0.6118, 0.6314, 0.4275, 0.2510, 0.0902,\n",
              "           0.3020, 0.5098, 0.2824, 0.0588],\n",
              "          [0.0000, 0.0000, 0.0000, 0.0000, 0.0000, 0.0000, 0.0000, 0.0000,\n",
              "           0.0000, 0.0000, 0.0000, 0.0039, 0.0000, 0.2706, 0.8118, 0.8745,\n",
              "           0.8549, 0.8471, 0.8471, 0.6392, 0.4980, 0.4745, 0.4784, 0.5725,\n",
              "           0.5529, 0.3451, 0.6745, 0.2588],\n",
              "          [0.0000, 0.0000, 0.0000, 0.0000, 0.0000, 0.0000, 0.0000, 0.0000,\n",
              "           0.0000, 0.0039, 0.0039, 0.0039, 0.0000, 0.7843, 0.9098, 0.9098,\n",
              "           0.9137, 0.8980, 0.8745, 0.8745, 0.8431, 0.8353, 0.6431, 0.4980,\n",
              "           0.4824, 0.7686, 0.8980, 0.0000],\n",
              "          [0.0000, 0.0000, 0.0000, 0.0000, 0.0000, 0.0000, 0.0000, 0.0000,\n",
              "           0.0000, 0.0000, 0.0000, 0.0000, 0.0000, 0.7176, 0.8824, 0.8471,\n",
              "           0.8745, 0.8941, 0.9216, 0.8902, 0.8784, 0.8706, 0.8784, 0.8667,\n",
              "           0.8745, 0.9608, 0.6784, 0.0000],\n",
              "          [0.0000, 0.0000, 0.0000, 0.0000, 0.0000, 0.0000, 0.0000, 0.0000,\n",
              "           0.0000, 0.0000, 0.0000, 0.0000, 0.0000, 0.7569, 0.8941, 0.8549,\n",
              "           0.8353, 0.7765, 0.7059, 0.8314, 0.8235, 0.8275, 0.8353, 0.8745,\n",
              "           0.8627, 0.9529, 0.7922, 0.0000],\n",
              "          [0.0000, 0.0000, 0.0000, 0.0000, 0.0000, 0.0000, 0.0000, 0.0000,\n",
              "           0.0000, 0.0039, 0.0118, 0.0000, 0.0471, 0.8588, 0.8627, 0.8314,\n",
              "           0.8549, 0.7529, 0.6627, 0.8902, 0.8157, 0.8549, 0.8784, 0.8314,\n",
              "           0.8863, 0.7725, 0.8196, 0.2039],\n",
              "          [0.0000, 0.0000, 0.0000, 0.0000, 0.0000, 0.0000, 0.0000, 0.0000,\n",
              "           0.0000, 0.0000, 0.0235, 0.0000, 0.3882, 0.9569, 0.8706, 0.8627,\n",
              "           0.8549, 0.7961, 0.7765, 0.8667, 0.8431, 0.8353, 0.8706, 0.8627,\n",
              "           0.9608, 0.4667, 0.6549, 0.2196],\n",
              "          [0.0000, 0.0000, 0.0000, 0.0000, 0.0000, 0.0000, 0.0000, 0.0000,\n",
              "           0.0000, 0.0157, 0.0000, 0.0000, 0.2157, 0.9255, 0.8941, 0.9020,\n",
              "           0.8941, 0.9412, 0.9098, 0.8353, 0.8549, 0.8745, 0.9176, 0.8510,\n",
              "           0.8510, 0.8196, 0.3608, 0.0000],\n",
              "          [0.0000, 0.0000, 0.0039, 0.0157, 0.0235, 0.0275, 0.0078, 0.0000,\n",
              "           0.0000, 0.0000, 0.0000, 0.0000, 0.9294, 0.8863, 0.8510, 0.8745,\n",
              "           0.8706, 0.8588, 0.8706, 0.8667, 0.8471, 0.8745, 0.8980, 0.8431,\n",
              "           0.8549, 1.0000, 0.3020, 0.0000],\n",
              "          [0.0000, 0.0118, 0.0000, 0.0000, 0.0000, 0.0000, 0.0000, 0.0000,\n",
              "           0.0000, 0.2431, 0.5686, 0.8000, 0.8941, 0.8118, 0.8353, 0.8667,\n",
              "           0.8549, 0.8157, 0.8275, 0.8549, 0.8784, 0.8745, 0.8588, 0.8431,\n",
              "           0.8784, 0.9569, 0.6235, 0.0000],\n",
              "          [0.0000, 0.0000, 0.0000, 0.0000, 0.0706, 0.1725, 0.3216, 0.4196,\n",
              "           0.7412, 0.8941, 0.8627, 0.8706, 0.8510, 0.8863, 0.7843, 0.8039,\n",
              "           0.8275, 0.9020, 0.8784, 0.9176, 0.6902, 0.7373, 0.9804, 0.9725,\n",
              "           0.9137, 0.9333, 0.8431, 0.0000],\n",
              "          [0.0000, 0.2235, 0.7333, 0.8157, 0.8784, 0.8667, 0.8784, 0.8157,\n",
              "           0.8000, 0.8392, 0.8157, 0.8196, 0.7843, 0.6235, 0.9608, 0.7569,\n",
              "           0.8078, 0.8745, 1.0000, 1.0000, 0.8667, 0.9176, 0.8667, 0.8275,\n",
              "           0.8627, 0.9098, 0.9647, 0.0000],\n",
              "          [0.0118, 0.7922, 0.8941, 0.8784, 0.8667, 0.8275, 0.8275, 0.8392,\n",
              "           0.8039, 0.8039, 0.8039, 0.8627, 0.9412, 0.3137, 0.5882, 1.0000,\n",
              "           0.8980, 0.8667, 0.7373, 0.6039, 0.7490, 0.8235, 0.8000, 0.8196,\n",
              "           0.8706, 0.8941, 0.8824, 0.0000],\n",
              "          [0.3843, 0.9137, 0.7765, 0.8235, 0.8706, 0.8980, 0.8980, 0.9176,\n",
              "           0.9765, 0.8627, 0.7608, 0.8431, 0.8510, 0.9451, 0.2549, 0.2863,\n",
              "           0.4157, 0.4588, 0.6588, 0.8588, 0.8667, 0.8431, 0.8510, 0.8745,\n",
              "           0.8745, 0.8784, 0.8980, 0.1137],\n",
              "          [0.2941, 0.8000, 0.8314, 0.8000, 0.7569, 0.8039, 0.8275, 0.8824,\n",
              "           0.8471, 0.7255, 0.7725, 0.8078, 0.7765, 0.8353, 0.9412, 0.7647,\n",
              "           0.8902, 0.9608, 0.9373, 0.8745, 0.8549, 0.8314, 0.8196, 0.8706,\n",
              "           0.8627, 0.8667, 0.9020, 0.2627],\n",
              "          [0.1882, 0.7961, 0.7176, 0.7608, 0.8353, 0.7725, 0.7255, 0.7451,\n",
              "           0.7608, 0.7529, 0.7922, 0.8392, 0.8588, 0.8667, 0.8627, 0.9255,\n",
              "           0.8824, 0.8471, 0.7804, 0.8078, 0.7294, 0.7098, 0.6941, 0.6745,\n",
              "           0.7098, 0.8039, 0.8078, 0.4510],\n",
              "          [0.0000, 0.4784, 0.8588, 0.7569, 0.7020, 0.6706, 0.7176, 0.7686,\n",
              "           0.8000, 0.8235, 0.8353, 0.8118, 0.8275, 0.8235, 0.7843, 0.7686,\n",
              "           0.7608, 0.7490, 0.7647, 0.7490, 0.7765, 0.7529, 0.6902, 0.6118,\n",
              "           0.6549, 0.6941, 0.8235, 0.3608],\n",
              "          [0.0000, 0.0000, 0.2902, 0.7412, 0.8314, 0.7490, 0.6863, 0.6745,\n",
              "           0.6863, 0.7098, 0.7255, 0.7373, 0.7412, 0.7373, 0.7569, 0.7765,\n",
              "           0.8000, 0.8196, 0.8235, 0.8235, 0.8275, 0.7373, 0.7373, 0.7608,\n",
              "           0.7529, 0.8471, 0.6667, 0.0000],\n",
              "          [0.0078, 0.0000, 0.0000, 0.0000, 0.2588, 0.7843, 0.8706, 0.9294,\n",
              "           0.9373, 0.9490, 0.9647, 0.9529, 0.9569, 0.8667, 0.8627, 0.7569,\n",
              "           0.7490, 0.7020, 0.7137, 0.7137, 0.7098, 0.6902, 0.6510, 0.6588,\n",
              "           0.3882, 0.2275, 0.0000, 0.0000],\n",
              "          [0.0000, 0.0000, 0.0000, 0.0000, 0.0000, 0.0000, 0.0000, 0.1569,\n",
              "           0.2392, 0.1725, 0.2824, 0.1608, 0.1373, 0.0000, 0.0000, 0.0000,\n",
              "           0.0000, 0.0000, 0.0000, 0.0000, 0.0000, 0.0000, 0.0000, 0.0000,\n",
              "           0.0000, 0.0000, 0.0000, 0.0000],\n",
              "          [0.0000, 0.0000, 0.0000, 0.0000, 0.0000, 0.0000, 0.0000, 0.0000,\n",
              "           0.0000, 0.0000, 0.0000, 0.0000, 0.0000, 0.0000, 0.0000, 0.0000,\n",
              "           0.0000, 0.0000, 0.0000, 0.0000, 0.0000, 0.0000, 0.0000, 0.0000,\n",
              "           0.0000, 0.0000, 0.0000, 0.0000],\n",
              "          [0.0000, 0.0000, 0.0000, 0.0000, 0.0000, 0.0000, 0.0000, 0.0000,\n",
              "           0.0000, 0.0000, 0.0000, 0.0000, 0.0000, 0.0000, 0.0000, 0.0000,\n",
              "           0.0000, 0.0000, 0.0000, 0.0000, 0.0000, 0.0000, 0.0000, 0.0000,\n",
              "           0.0000, 0.0000, 0.0000, 0.0000]]]),\n",
              " 9)"
            ]
          },
          "execution_count": 6,
          "metadata": {},
          "output_type": "execute_result"
        }
      ],
      "source": [
        "image, label = train_data[0]\n",
        "image, label"
      ]
    },
    {
      "cell_type": "code",
      "execution_count": 7,
      "metadata": {
        "colab": {
          "base_uri": "https://localhost:8080/"
        },
        "id": "-3gKGON4oqyb",
        "outputId": "66a06982-d721-42d1-ea9b-9ab6f4becf29"
      },
      "outputs": [
        {
          "data": {
            "text/plain": [
              "torch.Size([1, 28, 28])"
            ]
          },
          "execution_count": 7,
          "metadata": {},
          "output_type": "execute_result"
        }
      ],
      "source": [
        "image.shape"
      ]
    },
    {
      "cell_type": "code",
      "execution_count": 8,
      "metadata": {
        "colab": {
          "base_uri": "https://localhost:8080/"
        },
        "id": "Xkb_2Ja5oqyc",
        "outputId": "4b68a3b2-9b42-4d2b-c9ce-f606dc91be8f"
      },
      "outputs": [
        {
          "data": {
            "text/plain": [
              "(60000, 60000, 10000, 10000)"
            ]
          },
          "execution_count": 8,
          "metadata": {},
          "output_type": "execute_result"
        }
      ],
      "source": [
        "len(train_data.data), len(train_data.targets), len(test_data.data), len(test_data.targets)"
      ]
    },
    {
      "cell_type": "code",
      "execution_count": 9,
      "metadata": {
        "colab": {
          "base_uri": "https://localhost:8080/"
        },
        "id": "byPxnbFjoqyc",
        "outputId": "f5c31e64-32e6-4d86-b878-d6dcc70b9507"
      },
      "outputs": [
        {
          "data": {
            "text/plain": [
              "['T-shirt/top',\n",
              " 'Trouser',\n",
              " 'Pullover',\n",
              " 'Dress',\n",
              " 'Coat',\n",
              " 'Sandal',\n",
              " 'Shirt',\n",
              " 'Sneaker',\n",
              " 'Bag',\n",
              " 'Ankle boot']"
            ]
          },
          "execution_count": 9,
          "metadata": {},
          "output_type": "execute_result"
        }
      ],
      "source": [
        "class_names = train_data.classes\n",
        "class_names"
      ]
    },
    {
      "cell_type": "markdown",
      "metadata": {
        "id": "um2XhwnWoqyd"
      },
      "source": [
        "### 1.2 Visualizing our data"
      ]
    },
    {
      "cell_type": "code",
      "execution_count": 10,
      "metadata": {
        "colab": {
          "base_uri": "https://localhost:8080/",
          "height": 452
        },
        "id": "nZKHIjTKoqyd",
        "outputId": "8f1a339b-2d6e-4479-8303-0ad4eb96690a"
      },
      "outputs": [
        {
          "data": {
            "image/png": "[encoded data removed]",
            "text/plain": [
              "<Figure size 640x480 with 1 Axes>"
            ]
          },
          "metadata": {},
          "output_type": "display_data"
        }
      ],
      "source": [
        "image , target = train_data[69]\n",
        "plt.imshow(image.squeeze())\n",
        "plt.title(f'{class_names[target]} : {target}' )\n",
        "plt.show()"
      ]
    },
    {
      "cell_type": "code",
      "execution_count": 11,
      "metadata": {
        "colab": {
          "base_uri": "https://localhost:8080/",
          "height": 983
        },
        "id": "msrSUL-Joqyd",
        "outputId": "ea7b4b7b-ffb5-472a-d1d8-6bc6859dfeed"
      },
      "outputs": [
        {
          "data": {
            "image/png": "[encoded data removed]",
            "text/plain": [
              "<Figure size 1200x1200 with 25 Axes>"
            ]
          },
          "metadata": {},
          "output_type": "display_data"
        }
      ],
      "source": [
        "rows, cols = 5,5\n",
        "def plot_images(rows,cols):\n",
        "    torch.manual_seed(42)\n",
        "    fig = plt.figure(figsize=(12, 12))\n",
        "    for i in range(1,rows*cols+1):\n",
        "        random_idx = torch.randint(0 , len(train_data), size = [1]).item()\n",
        "        image, target = train_data[random_idx]\n",
        "        fig.add_subplot(rows,cols,i)\n",
        "        plt.title(f'{class_names[target]} : {target}' )\n",
        "        plt.axis(False);\n",
        "        plt.imshow(image.squeeze(), cmap='gray')\n",
        "plot_images(rows=rows,cols = cols)"
      ]
    },
    {
      "cell_type": "markdown",
      "metadata": {
        "id": "W-O-ex4noqye"
      },
      "source": [
        "## 2. Prepare DataLoader\n",
        "\n",
        "Now we've got a dataset ready to go.\n",
        "\n",
        "The next step is to prepare it with a [`torch.utils.data.DataLoader`](https://pytorch.org/docs/stable/data.html#torch.utils.data.Dataset) or `DataLoader` for short.\n",
        "\n",
        "The `DataLoader` does what you think it might do.\n",
        "\n",
        "It helps load data into a model.\n",
        "\n",
        "For training and for inference.\n",
        "\n",
        "It turns a large `Dataset` into a Python iterable of smaller chunks.\n",
        "\n",
        "These smaller chunks are called **batches** or **mini-batches** and can be set by the `batch_size` parameter.\n",
        "\n",
        "Why do this?\n",
        "\n",
        "Because it's more computationally efficient.\n",
        "\n",
        "In an ideal world you could do the forward pass and backward pass across all of your data at once.\n",
        "\n",
        "But once you start using really large datasets, unless you've got infinite computing power, it's easier to break them up into batches.\n",
        "\n",
        "It also gives your model more opportunities to improve.\n",
        "\n",
        "With **mini-batches** (small portions of the data), gradient descent is performed more often per epoch (once per mini-batch rather than once per epoch).\n",
        "\n",
        "What's a good batch size?\n",
        "\n",
        "[32 is a good place to start](https://twitter.com/ylecun/status/989610208497360896?s=20&t=N96J_jotN--PYuJk2WcjMw) for a fair amount of problems.\n",
        "\n",
        "But since this is a value you can set (a **hyperparameter**) you can try all different kinds of values, though generally powers of 2 are used most often (e.g. 32, 64, 128, 256, 512).\n",
        "\n",
        "![an example of what a batched dataset looks like](https://raw.githubusercontent.com/mrdbourke/pytorch-deep-learning/main/images/03-batching-fashionmnist.png)\n",
        "*Batching FashionMNIST with a batch size of 32 and shuffle turned on. A similar batching process will occur for other datasets but will differ depending on the batch size.*\n",
        "\n",
        "Let's create `DataLoader`'s for our training and test sets."
      ]
    },
    {
      "cell_type": "code",
      "execution_count": 12,
      "metadata": {
        "id": "kR0J9Rrhoqye"
      },
      "outputs": [],
      "source": [
        "from torch.utils.data import DataLoader\n",
        "\n",
        "BATCH_SIZE = 32\n",
        "\n",
        "train_dl = DataLoader(\n",
        "    train_data , shuffle = True , batch_size=BATCH_SIZE\n",
        ")\n",
        "\n",
        "test_dl = DataLoader(\n",
        "    test_data , batch_size = BATCH_SIZE , shuffle = False\n",
        ")"
      ]
    },
    {
      "cell_type": "code",
      "execution_count": 13,
      "metadata": {
        "colab": {
          "base_uri": "https://localhost:8080/"
        },
        "id": "7SBubZzkoqye",
        "outputId": "27b881ef-aed6-4e0d-ad59-6fdb7f4f2289"
      },
      "outputs": [
        {
          "data": {
            "text/plain": [
              "(1875, 313)"
            ]
          },
          "execution_count": 13,
          "metadata": {},
          "output_type": "execute_result"
        }
      ],
      "source": [
        "len(train_dl) , len(test_dl)"
      ]
    },
    {
      "cell_type": "code",
      "execution_count": 14,
      "metadata": {
        "colab": {
          "base_uri": "https://localhost:8080/"
        },
        "id": "4558f680oqye",
        "outputId": "8d17f952-4b8d-4497-c044-e031744f4f99"
      },
      "outputs": [
        {
          "data": {
            "text/plain": [
              "(torch.Size([32, 1, 28, 28]), torch.Size([32]))"
            ]
          },
          "execution_count": 14,
          "metadata": {},
          "output_type": "execute_result"
        }
      ],
      "source": [
        "train_features_batch, train_targets_batch = next(iter(train_dl))\n",
        "train_features_batch.shape, train_targets_batch.shape"
      ]
    },
    {
      "cell_type": "code",
      "execution_count": 15,
      "metadata": {
        "colab": {
          "base_uri": "https://localhost:8080/"
        },
        "id": "uJTjsCnJoqyf",
        "outputId": "5f2b447a-1593-411b-ba63-eb375a17dc0f"
      },
      "outputs": [
        {
          "data": {
            "text/plain": [
              "tensor([[[0.0000, 0.0000, 0.0000, 0.0000, 0.0000, 0.0000, 0.0000, 0.0000,\n",
              "          0.0000, 0.0000, 0.0000, 0.0000, 0.0000, 0.0000, 0.0000, 0.0000,\n",
              "          0.0000, 0.0000, 0.0000, 0.0000, 0.0000, 0.0000, 0.0000, 0.0000,\n",
              "          0.0000, 0.0000, 0.0000, 0.0000],\n",
              "         [0.0000, 0.0000, 0.0000, 0.0000, 0.0000, 0.0000, 0.0000, 0.0000,\n",
              "          0.0196, 0.0000, 0.0000, 0.0000, 0.0000, 0.0000, 0.0000, 0.0000,\n",
              "          0.0000, 0.0000, 0.0000, 0.0157, 0.0000, 0.0157, 0.0039, 0.0000,\n",
              "          0.0000, 0.0000, 0.0000, 0.0000],\n",
              "         [0.0000, 0.0000, 0.0000, 0.0000, 0.0000, 0.0000, 0.0000, 0.0039,\n",
              "          0.0000, 0.1490, 0.4667, 0.5098, 0.5373, 0.4941, 0.4824, 0.5137,\n",
              "          0.5490, 0.5137, 0.1294, 0.0000, 0.0039, 0.0000, 0.0000, 0.0000,\n",
              "          0.0000, 0.0000, 0.0000, 0.0000],\n",
              "         [0.0000, 0.0000, 0.0000, 0.0000, 0.0118, 0.0039, 0.0157, 0.0000,\n",
              "          0.2353, 0.5255, 0.1765, 0.0000, 0.0000, 0.0000, 0.0000, 0.0000,\n",
              "          0.0235, 0.1686, 0.4745, 0.3647, 0.0000, 0.0314, 0.0000, 0.0000,\n",
              "          0.0000, 0.0000, 0.0000, 0.0000],\n",
              "         [0.0000, 0.0000, 0.0000, 0.0000, 0.0000, 0.0000, 0.0157, 0.0000,\n",
              "          0.6157, 0.0745, 0.0000, 0.0000, 0.0000, 0.0118, 0.0118, 0.0039,\n",
              "          0.0000, 0.0000, 0.0000, 0.6863, 0.0706, 0.0000, 0.0078, 0.0000,\n",
              "          0.0000, 0.0000, 0.0000, 0.0000],\n",
              "         [0.0000, 0.0000, 0.0000, 0.0078, 0.0157, 0.0235, 0.0000, 0.0000,\n",
              "          0.5961, 0.0000, 0.0000, 0.0157, 0.0078, 0.0078, 0.0039, 0.0039,\n",
              "          0.0039, 0.0196, 0.0000, 0.1608, 0.6510, 0.0000, 0.0000, 0.0039,\n",
              "          0.0118, 0.0039, 0.0000, 0.0000],\n",
              "         [0.0000, 0.0000, 0.0000, 0.0000, 0.0000, 0.0000, 0.0000, 0.0000,\n",
              "          0.8314, 0.0000, 0.0000, 0.0000, 0.0000, 0.0000, 0.0000, 0.0000,\n",
              "          0.0000, 0.0000, 0.0000, 0.0000, 0.8275, 0.0902, 0.0000, 0.0000,\n",
              "          0.0000, 0.0000, 0.0039, 0.0000],\n",
              "         [0.0000, 0.0000, 0.0000, 0.0000, 0.2000, 0.3882, 0.3608, 0.3412,\n",
              "          0.5569, 0.4118, 0.4078, 0.4588, 0.4353, 0.3725, 0.3843, 0.3725,\n",
              "          0.3608, 0.3608, 0.3098, 0.4941, 0.4980, 0.6275, 0.1922, 0.2627,\n",
              "          0.0902, 0.0000, 0.0000, 0.0000],\n",
              "         [0.0000, 0.0000, 0.0000, 0.7216, 0.8471, 0.7137, 0.7294, 0.6196,\n",
              "          0.5098, 0.5216, 0.5098, 0.5216, 0.5451, 0.5961, 0.6784, 0.7216,\n",
              "          0.6902, 0.7529, 0.7098, 0.7255, 0.6392, 0.8314, 0.6863, 0.7059,\n",
              "          0.7765, 0.4235, 0.0000, 0.0000],\n",
              "         [0.0000, 0.0000, 0.2275, 0.7882, 0.8353, 0.8235, 0.8078, 0.8078,\n",
              "          0.8196, 0.7490, 0.7059, 0.7137, 0.7412, 0.7608, 0.7922, 0.7804,\n",
              "          0.7490, 0.7412, 0.7608, 0.7529, 0.8314, 0.9098, 0.8078, 0.7686,\n",
              "          0.8980, 0.5804, 0.0392, 0.0000],\n",
              "         [0.0000, 0.0000, 0.5333, 0.8275, 0.8235, 0.8275, 0.7961, 0.7961,\n",
              "          0.7961, 0.8000, 0.8078, 0.8000, 0.7686, 0.7569, 0.7843, 0.7804,\n",
              "          0.7569, 0.7294, 0.7725, 0.7412, 0.6588, 0.8549, 0.8863, 0.8510,\n",
              "          0.9059, 0.6157, 0.2588, 0.0000],\n",
              "         [0.0000, 0.0000, 0.6706, 0.8667, 0.8078, 0.8588, 0.8275, 0.8275,\n",
              "          0.8000, 0.8118, 0.8000, 0.7961, 0.8039, 0.7608, 0.7569, 0.7647,\n",
              "          0.7569, 0.7686, 0.8235, 0.7922, 0.8078, 0.7922, 0.8510, 0.8902,\n",
              "          0.8471, 0.7882, 0.4549, 0.0706],\n",
              "         [0.0000, 0.0000, 0.8157, 0.8627, 0.8196, 0.8549, 0.8118, 0.8314,\n",
              "          0.8392, 0.8275, 0.8157, 0.8235, 0.7922, 0.8392, 0.8706, 0.8196,\n",
              "          0.7765, 0.8000, 0.8235, 0.8000, 0.8196, 0.7843, 0.8549, 0.9059,\n",
              "          0.8745, 0.7843, 0.4549, 0.1490],\n",
              "         [0.0000, 0.0000, 0.8980, 0.8157, 0.8157, 0.8471, 0.8275, 0.8196,\n",
              "          0.8157, 0.8275, 0.8353, 0.7961, 0.9020, 0.6941, 0.5882, 0.7216,\n",
              "          0.8549, 0.8824, 0.7608, 0.7333, 0.9490, 0.6078, 0.8314, 0.9098,\n",
              "          0.8549, 0.8824, 0.4549, 0.1686],\n",
              "         [0.0000, 0.1098, 0.8000, 0.7922, 0.8275, 0.8392, 0.8118, 0.8275,\n",
              "          0.8392, 0.8000, 0.8235, 0.7765, 0.9451, 0.5216, 0.1294, 0.5176,\n",
              "          0.9137, 0.8039, 0.8784, 0.4863, 0.7725, 0.5804, 0.8275, 0.9373,\n",
              "          0.8706, 0.8588, 0.5020, 0.1294],\n",
              "         [0.0000, 0.3137, 0.8392, 0.8000, 0.8510, 0.8941, 0.9059, 0.8863,\n",
              "          0.8745, 0.9333, 0.9176, 0.8706, 1.0000, 0.6078, 0.1608, 0.5882,\n",
              "          1.0000, 0.8784, 0.9882, 0.8784, 0.5961, 0.7020, 1.0000, 0.8745,\n",
              "          0.8706, 0.8353, 0.5333, 0.1294],\n",
              "         [0.0000, 0.4353, 0.8157, 0.7882, 0.8275, 0.7961, 0.7569, 0.7686,\n",
              "          0.7843, 0.8588, 0.6745, 0.7569, 0.9529, 0.6549, 0.2275, 0.6275,\n",
              "          1.0000, 0.6902, 0.7529, 1.0000, 0.8902, 0.7137, 0.9216, 0.8902,\n",
              "          0.8471, 0.8353, 0.6627, 0.0863],\n",
              "         [0.0000, 0.5137, 0.7765, 0.7294, 0.7961, 0.7725, 0.6863, 0.8000,\n",
              "          0.7451, 0.7569, 0.6824, 0.7843, 0.7922, 0.6588, 0.2078, 0.6196,\n",
              "          0.9059, 0.6745, 0.7294, 0.8784, 0.9059, 0.9647, 0.9059, 0.9059,\n",
              "          0.8314, 0.7765, 0.7961, 0.0941],\n",
              "         [0.0275, 0.4784, 0.7804, 0.8235, 0.7294, 0.7451, 0.7922, 0.8196,\n",
              "          0.6902, 0.7686, 0.8549, 0.7922, 0.6588, 0.6314, 0.3529, 0.5451,\n",
              "          0.7137, 0.8667, 0.8941, 0.7647, 0.8157, 0.9647, 0.9725, 0.6706,\n",
              "          0.8431, 0.8863, 0.7451, 0.0510],\n",
              "         [0.1020, 0.4745, 0.8000, 0.7529, 0.7765, 0.8275, 0.6745, 0.7255,\n",
              "          0.8902, 0.8471, 0.4863, 0.7882, 0.9490, 0.7529, 0.4667, 0.7137,\n",
              "          1.0000, 0.6157, 0.6000, 0.9412, 0.9451, 0.7137, 0.8000, 0.9098,\n",
              "          0.7882, 0.7373, 0.8000, 0.0549],\n",
              "         [0.2078, 0.3137, 0.7098, 0.8667, 0.7294, 0.7451, 0.8471, 0.8431,\n",
              "          0.6157, 0.8196, 0.8863, 0.7765, 0.5647, 0.9569, 0.9922, 0.7961,\n",
              "          0.6431, 0.8588, 0.8275, 0.7686, 0.8000, 0.8431, 0.8980, 0.6863,\n",
              "          0.7804, 0.8902, 0.6980, 0.0000],\n",
              "         [0.2353, 0.3098, 0.5608, 0.8863, 0.7412, 0.7765, 0.7725, 0.7961,\n",
              "          0.7804, 0.7843, 0.7137, 0.8353, 0.7098, 0.7922, 0.7255, 0.7961,\n",
              "          0.6902, 0.8235, 0.7961, 0.7333, 0.7922, 0.8196, 0.7961, 0.7608,\n",
              "          0.7804, 0.9294, 0.2039, 0.0000],\n",
              "         [0.1922, 1.0000, 0.8196, 0.8157, 0.8549, 0.8980, 0.6902, 0.8039,\n",
              "          0.8824, 0.8235, 0.6275, 0.8706, 0.8353, 0.7843, 0.6196, 0.8863,\n",
              "          0.8471, 0.7333, 0.6667, 0.8824, 0.8902, 0.6824, 0.7412, 0.8588,\n",
              "          0.9059, 0.7725, 0.0000, 0.0000],\n",
              "         [0.0000, 0.5804, 0.8549, 0.8000, 0.8941, 0.9216, 0.9059, 0.9020,\n",
              "          0.7255, 0.8549, 0.8745, 0.8157, 0.6039, 0.8471, 0.9059, 0.7569,\n",
              "          0.5373, 0.8588, 0.9176, 0.6863, 0.6627, 0.9255, 0.8510, 0.7098,\n",
              "          0.8863, 0.3176, 0.0000, 0.0000],\n",
              "         [0.0000, 0.2667, 0.8941, 0.8314, 0.6745, 0.6588, 0.8431, 0.7647,\n",
              "          0.7647, 0.9647, 0.7412, 0.8275, 0.9098, 0.8588, 0.5804, 0.8588,\n",
              "          0.9176, 0.7176, 0.6314, 0.8549, 0.8235, 0.6980, 0.8196, 0.9412,\n",
              "          0.4980, 0.0000, 0.0000, 0.0000],\n",
              "         [0.0000, 0.9137, 0.9176, 0.7333, 0.6275, 0.8353, 0.8667, 0.8510,\n",
              "          0.8627, 0.8314, 0.8549, 0.9098, 0.8000, 0.8431, 0.8078, 0.8039,\n",
              "          0.7686, 0.8157, 0.7843, 0.8118, 0.8588, 0.8588, 0.7333, 0.3647,\n",
              "          0.0000, 0.0000, 0.0157, 0.0000],\n",
              "         [0.0000, 0.7882, 1.0000, 0.8000, 0.6353, 0.9882, 1.0000, 0.9647,\n",
              "          0.9961, 0.9961, 0.9451, 0.9804, 0.8784, 1.0000, 1.0000, 0.9647,\n",
              "          0.8353, 0.9804, 0.9569, 0.7020, 0.5922, 0.3412, 0.0000, 0.0000,\n",
              "          0.0000, 0.0000, 0.0000, 0.0000],\n",
              "         [0.0000, 0.1451, 0.3020, 0.2157, 0.6235, 0.7451, 0.7490, 0.6902,\n",
              "          0.7098, 0.8118, 0.1804, 0.0000, 0.0000, 0.0000, 0.0000, 0.0000,\n",
              "          0.0000, 0.0000, 0.0000, 0.0000, 0.0000, 0.0000, 0.0000, 0.0039,\n",
              "          0.0000, 0.0000, 0.0000, 0.0000]]])"
            ]
          },
          "execution_count": 15,
          "metadata": {},
          "output_type": "execute_result"
        }
      ],
      "source": [
        "train_features_batch[0]"
      ]
    },
    {
      "cell_type": "markdown",
      "metadata": {
        "id": "Bd04GJoboqyf"
      },
      "source": [
        "## 3. Model 0: Build a baseline model\n",
        "\n",
        "Data loaded and prepared!\n",
        "\n",
        "Time to build a **baseline model** by subclassing `nn.Module`.\n",
        "\n",
        "A **baseline model** is one of the simplest models you can imagine.\n",
        "\n",
        "You use the baseline as a starting point and try to improve upon it with subsequent, more complicated models.\n",
        "\n",
        "Our baseline will consist of two [`nn.Linear()`](https://pytorch.org/docs/stable/generated/torch.nn.Linear.html) layers.\n",
        "\n",
        "We've done this in a previous section but there's going to one slight difference.\n",
        "\n",
        "Because we're working with image data, we're going to use a different layer to start things off.\n",
        "\n",
        "And that's the [`nn.Flatten()`](https://pytorch.org/docs/stable/generated/torch.nn.Flatten.html) layer.\n",
        "\n",
        "`nn.Flatten()` compresses the dimensions of a tensor into a single vector.\n",
        "\n",
        "This is easier to understand when you see it."
      ]
    },
    {
      "cell_type": "code",
      "execution_count": 16,
      "metadata": {
        "colab": {
          "base_uri": "https://localhost:8080/"
        },
        "id": "YL5Ihhu4oqyf",
        "outputId": "d0d79079-d285-4e48-b3d1-48994016dd60"
      },
      "outputs": [
        {
          "data": {
            "text/plain": [
              "FashionMNIST(\n",
              "  (layer_stack): Sequential(\n",
              "    (0): Flatten(start_dim=1, end_dim=-1)\n",
              "    (1): Linear(in_features=784, out_features=16, bias=True)\n",
              "    (2): Linear(in_features=16, out_features=10, bias=True)\n",
              "  )\n",
              ")"
            ]
          },
          "execution_count": 16,
          "metadata": {},
          "output_type": "execute_result"
        }
      ],
      "source": [
        "from torch import nn\n",
        "class FashionMNIST(nn.Module):\n",
        "    def __init__(self , input_shape:int , hidden_layer : int , output_shape:int):\n",
        "        super().__init__()\n",
        "        self.layer_stack = nn.Sequential(\n",
        "            nn.Flatten(),\n",
        "            nn.Linear(in_features=input_shape , out_features=hidden_layer),\n",
        "            nn.Linear(in_features=hidden_layer, out_features=output_shape)\n",
        "        )\n",
        " \n",
        "    def forward(self, x):\n",
        "        return self.layer_stack(x)\n",
        "\n",
        "INPUT_SHAPE = 784\n",
        "OUTPUT_SHAPE = len(class_names)\n",
        "HIDDEN_LAYERS = 16\n",
        "\n",
        "torch.manual_seed(69)\n",
        "model_0 = FashionMNIST(input_shape=INPUT_SHAPE,output_shape=OUTPUT_SHAPE,hidden_layer=HIDDEN_LAYERS)\n",
        "model_0.to(device)"
      ]
    },
    {
      "cell_type": "markdown",
      "metadata": {
        "id": "I1hTqVAtoqyg"
      },
      "source": [
        "### 3.1 Setup loss, optimizer and evaluation metrics\n",
        "\n",
        "\n",
        "> **Note:** Rather than importing and using our own accuracy function or evaluation metric(s), you could import various evaluation metrics from the [TorchMetrics package](https://torchmetrics.readthedocs.io/en/latest/)."
      ]
    },
    {
      "cell_type": "code",
      "execution_count": 17,
      "metadata": {
        "colab": {
          "base_uri": "https://localhost:8080/"
        },
        "id": "WeZq_agjpC28",
        "outputId": "17263726-3e97-4f97-b7e9-6779f8f628ce"
      },
      "outputs": [
        {
          "name": "stdout",
          "output_type": "stream",
          "text": [
            "Requirement already satisfied: torchmetrics in c:\\saket\\coding\\python\\python course files\\deep learning\\venv\\lib\\site-packages (1.4.0)\n",
            "Requirement already satisfied: numpy>1.20.0 in c:\\saket\\coding\\python\\python course files\\deep learning\\venv\\lib\\site-packages (from torchmetrics) (1.26.4)\n",
            "Requirement already satisfied: packaging>17.1 in c:\\saket\\coding\\python\\python course files\\deep learning\\venv\\lib\\site-packages (from torchmetrics) (24.0)\n",
            "Requirement already satisfied: torch>=1.10.0 in c:\\saket\\coding\\python\\python course files\\deep learning\\venv\\lib\\site-packages (from torchmetrics) (2.3.0)\n",
            "Requirement already satisfied: lightning-utilities>=0.8.0 in c:\\saket\\coding\\python\\python course files\\deep learning\\venv\\lib\\site-packages (from torchmetrics) (0.11.2)\n",
            "Requirement already satisfied: pretty-errors==1.2.25 in c:\\saket\\coding\\python\\python course files\\deep learning\\venv\\lib\\site-packages (from torchmetrics) (1.2.25)\n",
            "Requirement already satisfied: colorama in c:\\saket\\coding\\python\\python course files\\deep learning\\venv\\lib\\site-packages (from pretty-errors==1.2.25->torchmetrics) (0.4.6)\n",
            "Requirement already satisfied: setuptools in c:\\saket\\coding\\python\\python course files\\deep learning\\venv\\lib\\site-packages (from lightning-utilities>=0.8.0->torchmetrics) (65.5.0)\n",
            "Requirement already satisfied: typing-extensions in c:\\saket\\coding\\python\\python course files\\deep learning\\venv\\lib\\site-packages (from lightning-utilities>=0.8.0->torchmetrics) (4.11.0)\n",
            "Requirement already satisfied: filelock in c:\\saket\\coding\\python\\python course files\\deep learning\\venv\\lib\\site-packages (from torch>=1.10.0->torchmetrics) (3.14.0)\n",
            "Requirement already satisfied: sympy in c:\\saket\\coding\\python\\python course files\\deep learning\\venv\\lib\\site-packages (from torch>=1.10.0->torchmetrics) (1.12)\n",
            "Requirement already satisfied: networkx in c:\\saket\\coding\\python\\python course files\\deep learning\\venv\\lib\\site-packages (from torch>=1.10.0->torchmetrics) (3.3)\n",
            "Requirement already satisfied: jinja2 in c:\\saket\\coding\\python\\python course files\\deep learning\\venv\\lib\\site-packages (from torch>=1.10.0->torchmetrics) (3.1.4)\n",
            "Requirement already satisfied: fsspec in c:\\saket\\coding\\python\\python course files\\deep learning\\venv\\lib\\site-packages (from torch>=1.10.0->torchmetrics) (2024.3.1)\n",
            "Requirement already satisfied: mkl<=2021.4.0,>=2021.1.1 in c:\\saket\\coding\\python\\python course files\\deep learning\\venv\\lib\\site-packages (from torch>=1.10.0->torchmetrics) (2021.4.0)\n",
            "Requirement already satisfied: intel-openmp==2021.* in c:\\saket\\coding\\python\\python course files\\deep learning\\venv\\lib\\site-packages (from mkl<=2021.4.0,>=2021.1.1->torch>=1.10.0->torchmetrics) (2021.4.0)\n",
            "Requirement already satisfied: tbb==2021.* in c:\\saket\\coding\\python\\python course files\\deep learning\\venv\\lib\\site-packages (from mkl<=2021.4.0,>=2021.1.1->torch>=1.10.0->torchmetrics) (2021.12.0)\n",
            "Requirement already satisfied: MarkupSafe>=2.0 in c:\\saket\\coding\\python\\python course files\\deep learning\\venv\\lib\\site-packages (from jinja2->torch>=1.10.0->torchmetrics) (2.1.5)\n",
            "Requirement already satisfied: mpmath>=0.19 in c:\\saket\\coding\\python\\python course files\\deep learning\\venv\\lib\\site-packages (from sympy->torch>=1.10.0->torchmetrics) (1.3.0)\n"
          ]
        }
      ],
      "source": [
        "!pip install torchmetrics"
      ]
    },
    {
      "cell_type": "code",
      "execution_count": 18,
      "metadata": {
        "id": "NB546wuWoqyg"
      },
      "outputs": [],
      "source": [
        "from torchmetrics import Accuracy\n",
        "accuracy_score = Accuracy(task=\"multiclass\", num_classes=len(class_names)).to(device)"
      ]
    },
    {
      "cell_type": "code",
      "execution_count": 19,
      "metadata": {
        "id": "TjJk4djJoqyg"
      },
      "outputs": [],
      "source": [
        "loss_fn = nn.CrossEntropyLoss()\n",
        "optimizer = torch.optim.SGD(params=model_0.parameters(), lr=0.01)"
      ]
    },
    {
      "cell_type": "markdown",
      "metadata": {
        "id": "2cPOrE14oqyh"
      },
      "source": [
        "### 3.3 Creating a training loop and training a model on batches of data\n",
        "\n",
        "Beautiful!\n",
        "\n",
        "Looks like we've got all of the pieces of the puzzle ready to go, a timer, a loss function, an optimizer, a model and most importantly, some data.\n",
        "\n",
        "Let's now create a training loop and a testing loop to train and evaluate our model.\n",
        "\n",
        "We'll be using the same steps as the previous notebook(s), though since our data is now in batch form, we'll add another loop to loop through our data batches.\n",
        "\n",
        "Our data batches are contained within our `DataLoader`s, `train_dataloader` and `test_dataloader` for the training and test data splits respectively.\n",
        "\n",
        "A batch is `BATCH_SIZE` samples of `X` (features) and `y` (labels), since we're using `BATCH_SIZE=32`, our batches have 32 samples of images and targets.\n",
        "\n",
        "And since we're computing on batches of data, our loss and evaluation metrics will be calculated **per batch** rather than across the whole dataset.\n",
        "\n",
        "This means we'll have to divide our loss and accuracy values by the number of batches in each dataset's respective dataloader.\n",
        "\n",
        "Let's step through it:\n",
        "1. Loop through epochs.\n",
        "2. Loop through training batches, perform training steps, calculate the train loss *per batch*.\n",
        "3. Loop through testing batches, perform testing steps, calculate the test loss *per batch*.\n",
        "4. Print out what's happening.\n",
        "5. Time it all (for fun).\n",
        "\n",
        "A fair few steps but...\n",
        "\n",
        "...if in doubt, code it out."
      ]
    },
    {
      "cell_type": "code",
      "execution_count": 20,
      "metadata": {
        "colab": {
          "base_uri": "https://localhost:8080/",
          "height": 1000,
          "referenced_widgets": [
            "930861f5f56b4f5dbf37fe375b52ded9",
            "9f344c69d663426bb95ed51c84a07154",
            "785f9d490b9a45e9b155cdb0fcc506d0",
            "b8ff0d6408c34534b4cc59e664138547",
            "4dc6405329db45d29787b58c27294103",
            "8c690d2dda1d49309ef011f4580cbe5e",
            "7bcaea932a6646bb902ea8ca1850baca",
            "cf8203b30a2045f18f1b5385aa3000d3",
            "a33e35fea3c34a45ac38fbbf1667edb2",
            "f764c4cfbebe455687a79f58f1c36755",
            "eac6257c94c04f0eb57cf1414539f475"
          ]
        },
        "id": "9tTtjJBXoqyi",
        "outputId": "8fecf3e3-83c3-4fbf-ad6d-10793ab6fbcf"
      },
      "outputs": [
        {
          "name": "stderr",
          "output_type": "stream",
          "text": [
            "c:\\SAKET\\Coding\\PYTHON\\Python Course Files\\Deep Learning\\venv\\Lib\\site-packages\\tqdm\\auto.py:21: TqdmWarning: IProgress not found. Please update jupyter and ipywidgets. See https://ipywidgets.readthedocs.io/en/stable/user_install.html\n",
            "  from .autonotebook import tqdm as notebook_tqdm\n",
            "  0%|          | 0/3 [00:00<?, ?it/s]"
          ]
        },
        {
          "name": "stdout",
          "output_type": "stream",
          "text": [
            "Epoch: 0\n",
            "-------\n",
            "\n",
            "Train loss: 0.87833 | Train Accuracy: 0.71192 | Test loss: 0.64288, Test acc: 0.87500%\n",
            "\n"
          ]
        },
        {
          "name": "stderr",
          "output_type": "stream",
          "text": [
            " 33%|███▎      | 1/3 [00:11<00:23, 11.76s/it]"
          ]
        },
        {
          "name": "stdout",
          "output_type": "stream",
          "text": [
            "Epoch: 1\n",
            "-------\n",
            "\n",
            "Train loss: 0.56297 | Train Accuracy: 0.80915 | Test loss: 0.55196, Test acc: 0.87500%\n",
            "\n"
          ]
        },
        {
          "name": "stderr",
          "output_type": "stream",
          "text": [
            " 67%|██████▋   | 2/3 [00:24<00:12, 12.21s/it]"
          ]
        },
        {
          "name": "stdout",
          "output_type": "stream",
          "text": [
            "Epoch: 2\n",
            "-------\n",
            "\n",
            "Train loss: 0.50259 | Train Accuracy: 0.82757 | Test loss: 0.50966, Test acc: 0.93750%\n",
            "\n"
          ]
        },
        {
          "name": "stderr",
          "output_type": "stream",
          "text": [
            "100%|██████████| 3/3 [00:37<00:00, 12.37s/it]\n"
          ]
        }
      ],
      "source": [
        "# Import tqdm for progress bar\n",
        "from tqdm.auto import tqdm\n",
        "\n",
        "torch.manual_seed(69)\n",
        "\n",
        "EPOCHS = 3\n",
        "\n",
        "for epoch in tqdm(range(EPOCHS)):\n",
        "    print(f\"Epoch: {epoch}\\n-------\")\n",
        "    ### Training\n",
        "    train_loss, train_accuracy = 0, 0\n",
        "\n",
        "    for batch , (X_train,train_targets) in enumerate(train_dl):\n",
        "        X_train, train_targets = X_train.to(device), train_targets.to(device)\n",
        "        model_0.train()\n",
        "\n",
        "        train_preds = model_0(X_train)\n",
        "\n",
        "        loss = loss_fn(train_preds , train_targets)\n",
        "        train_loss +=loss\n",
        "        train_acc = accuracy_score(train_targets,train_preds.argmax(dim=1))\n",
        "        train_accuracy+=train_acc\n",
        "\n",
        "         # 3. Optimizer zero grad\n",
        "        optimizer.zero_grad()\n",
        "\n",
        "        # 4. Loss backward\n",
        "        loss.backward()\n",
        "\n",
        "        # 5. Optimizer step\n",
        "        optimizer.step()\n",
        "        # print(f' Batch : {batch} | train_loss : {loss} | train_accuracy = {train_acc}')\n",
        "\n",
        "    train_loss /= len(train_dl)\n",
        "    train_accuracy /= len(train_dl)\n",
        "\n",
        "\n",
        "    ## testing\n",
        "    test_loss, test_accuracy = 0, 0\n",
        "    model_0.eval()\n",
        "    with torch.inference_mode():\n",
        "        for X_test , test_targets in test_dl:\n",
        "            X_test, test_targets = X_test.to(device), test_targets.to(device)\n",
        "            test_preds = model_0(X_test)\n",
        "\n",
        "            test_loss += loss_fn(test_preds,test_targets)\n",
        "\n",
        "            test_acc = accuracy_score(test_preds.argmax(dim=1), test_targets)\n",
        "\n",
        "        test_loss /= len(test_dl)\n",
        "\n",
        "        # Divide total accuracy by length of test dataloader (per batch)\n",
        "        test_accuracy /= len(test_dl)\n",
        "\n",
        "    print(f\"\\nTrain loss: {train_loss:.5f} | Train Accuracy: {train_accuracy:.5f} | Test loss: {test_loss:.5f}, Test acc: {test_acc:.5f}%\\n\")\n"
      ]
    },
    {
      "cell_type": "markdown",
      "metadata": {
        "id": "Is66MxqWoqyj"
      },
      "source": [
        "## 4. Make predictions and get Model 0 results\n",
        "\n",
        "Since we're going to be building a few models, it's a good idea to write some code to evaluate them all in similar ways.\n",
        "\n",
        "Namely, let's create a function that takes in a trained model, a `DataLoader`, a loss function and an accuracy function.\n",
        "\n",
        "The function will use the model to make predictions on the data in the `DataLoader` and then we can evaluate those predictions using the loss function and accuracy function."
      ]
    },
    {
      "cell_type": "code",
      "execution_count": 21,
      "metadata": {
        "colab": {
          "base_uri": "https://localhost:8080/"
        },
        "id": "8suY-tPToqyj",
        "outputId": "e05c21d4-7bf6-4452-e397-b95006e993f0"
      },
      "outputs": [
        {
          "name": "stdout",
          "output_type": "stream",
          "text": [
            "tensor(0.8207)\n"
          ]
        }
      ],
      "source": [
        "with torch.inference_mode():\n",
        "    for(X_test, test_targets) in test_dl:\n",
        "        X_test, test_targets = X_test.to(device), test_targets.to(device)\n",
        "        test_preds = model_0(X_test)\n",
        "            # print(test_preds)\n",
        "\n",
        "            # test_loss += loss_fn(test_preds, test_taregts)\n",
        "        test_accuracy += accuracy_score(test_targets,test_preds.argmax(dim=1)) # For accuracy, need the prediction labels (logits -> pred_prob -> pred_labels)\n",
        "\n",
        "        # Scale loss and acc to find the average loss/acc per batch\n",
        "        # test_loss /= len(test_dl)\n",
        "    test_accuracy /= len(test_dl)\n",
        "print(test_accuracy)"
      ]
    },
    {
      "cell_type": "code",
      "execution_count": 22,
      "metadata": {
        "id": "PITe8pMuoqyk"
      },
      "outputs": [],
      "source": [
        "def eval_model(model:torch.nn.Module,\n",
        "                train_dl : torch.utils.data.DataLoader,\n",
        "                test_dl : torch.utils.data.DataLoader,\n",
        "                loss_fn :torch.nn.Module ,\n",
        "                accuracy_fn):\n",
        "\n",
        "    ## Training\n",
        "    train_loss, train_accuracy = 0, 0\n",
        "    for X_train,train_targets in train_dl:\n",
        "        X_train, train_targets = X_train.to(device), train_targets.to(device)\n",
        "        train_preds = model(X_train)\n",
        "\n",
        "        loss = loss_fn(train_preds , train_targets)\n",
        "        train_loss +=loss\n",
        "        train_acc = accuracy_fn(train_targets,train_preds.argmax(dim=1))\n",
        "        train_accuracy+=train_acc\n",
        "\n",
        "    train_loss /= len(train_dl)\n",
        "    train_accuracy /= len(train_dl)\n",
        "\n",
        "    ## Testing\n",
        "    test_loss, test_accuracy = 0, 0\n",
        "    model.eval()\n",
        "    with torch.inference_mode():\n",
        "        for(X_test, test_targets) in test_dl:\n",
        "            X_test, test_targets = X_test.to(device), test_targets.to(device)\n",
        "            test_preds = model(X_test)\n",
        "\n",
        "            test_accuracy += accuracy_fn(test_targets,test_preds.argmax(dim=1)) # For accuracy, need the prediction labels (logits -> pred_prob -> pred_labels)\n",
        "\n",
        "        # Scale loss and acc to find the average loss/acc per batch\n",
        "\n",
        "        test_accuracy /= len(test_dl)\n",
        "    return {\"model_name\": model, # only works when model was created with a class\n",
        "            \"train_loss\": train_loss.item(),\n",
        "            \"train_accuracy\": train_accuracy.item(),\n",
        "            \"test_accuracy\": test_accuracy.item()}"
      ]
    },
    {
      "cell_type": "code",
      "execution_count": 23,
      "metadata": {
        "colab": {
          "base_uri": "https://localhost:8080/"
        },
        "id": "kXexwBd_oqyk",
        "outputId": "2958732a-e783-4969-b67b-6006c221375f"
      },
      "outputs": [
        {
          "data": {
            "text/plain": [
              "{'model_name': FashionMNIST(\n",
              "   (layer_stack): Sequential(\n",
              "     (0): Flatten(start_dim=1, end_dim=-1)\n",
              "     (1): Linear(in_features=784, out_features=16, bias=True)\n",
              "     (2): Linear(in_features=16, out_features=10, bias=True)\n",
              "   )\n",
              " ),\n",
              " 'train_loss': 0.4798489809036255,\n",
              " 'train_accuracy': 0.8348333239555359,\n",
              " 'test_accuracy': 0.8206868767738342}"
            ]
          },
          "execution_count": 23,
          "metadata": {},
          "output_type": "execute_result"
        }
      ],
      "source": [
        "eval_model(model=model_0, train_dl=train_dl,test_dl=test_dl,loss_fn=loss_fn,accuracy_fn=accuracy_score)"
      ]
    },
    {
      "cell_type": "markdown",
      "metadata": {
        "id": "TWfT_qxMoqyk"
      },
      "source": [
        "### 5 Functionizing training and test loops\n",
        "\n",
        "So far we've been writing train and test loops over and over.\n",
        "\n",
        "Let's write them again but this time we'll put them in functions so they can be called again and again.\n",
        "\n",
        "And because we're using device-agnostic code now, we'll be sure to call `.to(device)` on our feature (`X`) and target (`y`) tensors.\n",
        "\n",
        "For the training loop we'll create a function called `train_step()` which takes in a model, a `DataLoader` a loss function and an optimizer.\n",
        "\n",
        "The testing loop will be similar but it'll be called `test_step()` and it'll take in a model, a `DataLoader`, a loss function and an evaluation function.\n",
        "\n",
        "> **Note:** Since these are functions, you can customize them in any way you like. What we're making here can be considered barebones training and testing functions for our specific classification use case."
      ]
    },
    {
      "cell_type": "code",
      "execution_count": 24,
      "metadata": {},
      "outputs": [],
      "source": [
        "import numpy as np"
      ]
    },
    {
      "cell_type": "code",
      "execution_count": 25,
      "metadata": {
        "id": "-oGc1hL0oqyl"
      },
      "outputs": [],
      "source": [
        "import torch\n",
        "from torch import nn\n",
        "def train_step(model : torch.nn.Module,\n",
        "               train_dl : torch.utils.data.DataLoader,\n",
        "               loss_fn : torch.nn.Module,\n",
        "               optimizer : torch.optim.Optimizer,\n",
        "               accuracy_fn ,\n",
        "               device : torch.device = device):\n",
        "\n",
        "\n",
        "    ### Training\n",
        "    train_loss, train_accuracy = 0, 0\n",
        "    model.to(device)\n",
        "    for batch , (X_train,train_targets) in enumerate(train_dl):\n",
        "        model.train()\n",
        "        X_train, train_targets = X_train.to(device), train_targets.to(device)\n",
        "\n",
        "        train_preds = model(X_train)\n",
        "\n",
        "        loss = loss_fn(train_preds , train_targets)\n",
        "        \n",
        "        train_loss +=loss\n",
        "        train_acc = accuracy_fn(train_targets,train_preds.argmax(dim=1))\n",
        "        \n",
        "        train_accuracy+=train_acc\n",
        "\n",
        "         # 3. Optimizer zero grad\n",
        "        optimizer.zero_grad()\n",
        "\n",
        "        # 4. Loss backward\n",
        "        loss.backward()\n",
        "\n",
        "        # 5. Optimizer step\n",
        "        optimizer.step()\n",
        "        # print(f' Batch : {batch} | train_loss : {loss} | train_accuracy = {train_acc}')\n",
        "\n",
        "    train_loss /= len(train_dl)\n",
        "    train_accuracy /= len(train_dl)\n",
        "\n",
        "    print(f\"Train loss: {train_loss:.5f} | Train accuracy: {train_accuracy:.5f}%\")\n",
        "    \n",
        "\n",
        "def test_step(model : torch.nn.Module,\n",
        "               test_dl : torch.utils.data.DataLoader,\n",
        "               loss_fn : torch.nn.Module,\n",
        "               accuracy_fn ,\n",
        "               device : torch.device = device):\n",
        "\n",
        "    test_loss, test_accuracy = 0, 0\n",
        "    model.to(device)\n",
        "    model.eval()\n",
        "\n",
        "    with torch.inference_mode():\n",
        "        for X_test , test_targets in test_dl:\n",
        "            X_test, test_targets = X_test.to(device), test_targets.to(device)\n",
        "            test_preds = model(X_test)\n",
        "\n",
        "            test_loss += loss_fn(test_preds,test_targets)\n",
        "\n",
        "            test_accuracy += accuracy_fn(test_preds.argmax(dim=1), test_targets)\n",
        "\n",
        "        test_loss /= len(test_dl)\n",
        "\n",
        "        # Divide total accuracy by length of test dataloader (per batch)\n",
        "        test_accuracy /= len(test_dl)\n",
        "        print(f\"Test loss: {test_loss:.5f} | Test accuracy: {test_accuracy:.5f}%\\n\")\n"
      ]
    },
    {
      "cell_type": "code",
      "execution_count": 26,
      "metadata": {
        "id": "cyd5g5s9oqyl"
      },
      "outputs": [
        {
          "data": {
            "text/plain": [
              "FashionMNIST(\n",
              "  (layer_stack): Sequential(\n",
              "    (0): Flatten(start_dim=1, end_dim=-1)\n",
              "    (1): Linear(in_features=784, out_features=16, bias=True)\n",
              "    (2): ReLU()\n",
              "    (3): Linear(in_features=16, out_features=16, bias=True)\n",
              "    (4): ReLU()\n",
              "    (5): Linear(in_features=16, out_features=10, bias=True)\n",
              "  )\n",
              ")"
            ]
          },
          "execution_count": 26,
          "metadata": {},
          "output_type": "execute_result"
        }
      ],
      "source": [
        "from torch import nn\n",
        "class FashionMNIST(nn.Module):\n",
        "    def __init__(self , input_shape:int , hidden_layer : int , output_shape:int):\n",
        "        super().__init__()\n",
        "        self.layer_stack = nn.Sequential(\n",
        "            nn.Flatten(),\n",
        "            nn.Linear(in_features=input_shape , out_features=hidden_layer),\n",
        "            nn.ReLU(),\n",
        "            nn.Linear(in_features=hidden_layer, out_features=hidden_layer),\n",
        "            nn.ReLU(),\n",
        "            nn.Linear(in_features=hidden_layer, out_features=output_shape)\n",
        "        )\n",
        " \n",
        "    def forward(self, x):\n",
        "        return self.layer_stack(x)\n",
        "\n",
        "INPUT_SHAPE = 784\n",
        "OUTPUT_SHAPE = len(class_names)\n",
        "HIDDEN_LAYERS = 16\n",
        "\n",
        "torch.manual_seed(69)\n",
        "model_1 = FashionMNIST(input_shape=INPUT_SHAPE,output_shape=OUTPUT_SHAPE,hidden_layer=HIDDEN_LAYERS)\n",
        "model_1.to(device)"
      ]
    },
    {
      "cell_type": "code",
      "execution_count": 27,
      "metadata": {},
      "outputs": [],
      "source": [
        "loss_fn = nn.CrossEntropyLoss()\n",
        "optimizer = torch.optim.SGD(params=model_1.parameters(), \n",
        "                            lr=0.01)"
      ]
    },
    {
      "cell_type": "code",
      "execution_count": 28,
      "metadata": {},
      "outputs": [
        {
          "name": "stderr",
          "output_type": "stream",
          "text": [
            "  0%|          | 0/30 [00:00<?, ?it/s]"
          ]
        },
        {
          "name": "stdout",
          "output_type": "stream",
          "text": [
            "Epoch: 0\n",
            "---------\n",
            "Train loss: 1.12484 | Train accuracy: 0.61148%\n",
            "Test loss: 0.71213 | Test accuracy: 0.73462%\n",
            "\n"
          ]
        },
        {
          "name": "stderr",
          "output_type": "stream",
          "text": [
            "  3%|▎         | 1/30 [00:13<06:45, 13.98s/it]"
          ]
        },
        {
          "name": "stdout",
          "output_type": "stream",
          "text": [
            "Epoch: 1\n",
            "---------\n",
            "Train loss: 0.61724 | Train accuracy: 0.78350%\n",
            "Test loss: 0.57659 | Test accuracy: 0.79503%\n",
            "\n"
          ]
        },
        {
          "name": "stderr",
          "output_type": "stream",
          "text": [
            "  7%|▋         | 2/30 [00:27<06:31, 13.99s/it]"
          ]
        },
        {
          "name": "stdout",
          "output_type": "stream",
          "text": [
            "Epoch: 2\n",
            "---------\n",
            "Train loss: 0.52727 | Train accuracy: 0.81667%\n",
            "Test loss: 0.52744 | Test accuracy: 0.81270%\n",
            "\n"
          ]
        },
        {
          "name": "stderr",
          "output_type": "stream",
          "text": [
            " 10%|█         | 3/30 [00:42<06:24, 14.22s/it]"
          ]
        },
        {
          "name": "stdout",
          "output_type": "stream",
          "text": [
            "Epoch: 3\n",
            "---------\n",
            "Train loss: 0.48814 | Train accuracy: 0.83050%\n",
            "Test loss: 0.49657 | Test accuracy: 0.82448%\n",
            "\n"
          ]
        },
        {
          "name": "stderr",
          "output_type": "stream",
          "text": [
            " 13%|█▎        | 4/30 [00:56<06:12, 14.34s/it]"
          ]
        },
        {
          "name": "stdout",
          "output_type": "stream",
          "text": [
            "Epoch: 4\n",
            "---------\n",
            "Train loss: 0.46584 | Train accuracy: 0.83712%\n",
            "Test loss: 0.48486 | Test accuracy: 0.83167%\n",
            "\n"
          ]
        },
        {
          "name": "stderr",
          "output_type": "stream",
          "text": [
            " 17%|█▋        | 5/30 [01:11<05:56, 14.27s/it]"
          ]
        },
        {
          "name": "stdout",
          "output_type": "stream",
          "text": [
            "Epoch: 5\n",
            "---------\n",
            "Train loss: 0.44966 | Train accuracy: 0.84208%\n",
            "Test loss: 0.46999 | Test accuracy: 0.83446%\n",
            "\n"
          ]
        },
        {
          "name": "stderr",
          "output_type": "stream",
          "text": [
            " 20%|██        | 6/30 [01:25<05:41, 14.22s/it]"
          ]
        },
        {
          "name": "stdout",
          "output_type": "stream",
          "text": [
            "Epoch: 6\n",
            "---------\n",
            "Train loss: 0.43703 | Train accuracy: 0.84723%\n",
            "Test loss: 0.46131 | Test accuracy: 0.83736%\n",
            "\n"
          ]
        },
        {
          "name": "stderr",
          "output_type": "stream",
          "text": [
            " 23%|██▎       | 7/30 [01:39<05:24, 14.12s/it]"
          ]
        },
        {
          "name": "stdout",
          "output_type": "stream",
          "text": [
            "Epoch: 7\n",
            "---------\n",
            "Train loss: 0.42767 | Train accuracy: 0.85055%\n",
            "Test loss: 0.45257 | Test accuracy: 0.83786%\n",
            "\n"
          ]
        },
        {
          "name": "stderr",
          "output_type": "stream",
          "text": [
            " 27%|██▋       | 8/30 [01:53<05:09, 14.06s/it]"
          ]
        },
        {
          "name": "stdout",
          "output_type": "stream",
          "text": [
            "Epoch: 8\n",
            "---------\n",
            "Train loss: 0.41790 | Train accuracy: 0.85348%\n",
            "Test loss: 0.45209 | Test accuracy: 0.84105%\n",
            "\n"
          ]
        },
        {
          "name": "stderr",
          "output_type": "stream",
          "text": [
            " 30%|███       | 9/30 [02:07<04:54, 14.02s/it]"
          ]
        },
        {
          "name": "stdout",
          "output_type": "stream",
          "text": [
            "Epoch: 9\n",
            "---------\n",
            "Train loss: 0.41044 | Train accuracy: 0.85532%\n",
            "Test loss: 0.44735 | Test accuracy: 0.84016%\n",
            "\n"
          ]
        },
        {
          "name": "stderr",
          "output_type": "stream",
          "text": [
            " 33%|███▎      | 10/30 [02:21<04:44, 14.24s/it]"
          ]
        },
        {
          "name": "stdout",
          "output_type": "stream",
          "text": [
            "Epoch: 10\n",
            "---------\n",
            "Train loss: 0.40325 | Train accuracy: 0.85800%\n",
            "Test loss: 0.43369 | Test accuracy: 0.84565%\n",
            "\n"
          ]
        },
        {
          "name": "stderr",
          "output_type": "stream",
          "text": [
            " 37%|███▋      | 11/30 [02:36<04:31, 14.29s/it]"
          ]
        },
        {
          "name": "stdout",
          "output_type": "stream",
          "text": [
            "Epoch: 11\n",
            "---------\n",
            "Train loss: 0.39646 | Train accuracy: 0.86103%\n",
            "Test loss: 0.43515 | Test accuracy: 0.84625%\n",
            "\n"
          ]
        },
        {
          "name": "stderr",
          "output_type": "stream",
          "text": [
            " 40%|████      | 12/30 [02:52<04:28, 14.90s/it]"
          ]
        },
        {
          "name": "stdout",
          "output_type": "stream",
          "text": [
            "Epoch: 12\n",
            "---------\n",
            "Train loss: 0.38984 | Train accuracy: 0.86325%\n",
            "Test loss: 0.43037 | Test accuracy: 0.84694%\n",
            "\n"
          ]
        },
        {
          "name": "stderr",
          "output_type": "stream",
          "text": [
            " 43%|████▎     | 13/30 [03:09<04:21, 15.41s/it]"
          ]
        },
        {
          "name": "stdout",
          "output_type": "stream",
          "text": [
            "Epoch: 13\n",
            "---------\n",
            "Train loss: 0.38414 | Train accuracy: 0.86360%\n",
            "Test loss: 0.42433 | Test accuracy: 0.85054%\n",
            "\n"
          ]
        },
        {
          "name": "stderr",
          "output_type": "stream",
          "text": [
            " 47%|████▋     | 14/30 [03:25<04:11, 15.70s/it]"
          ]
        },
        {
          "name": "stdout",
          "output_type": "stream",
          "text": [
            "Epoch: 14\n",
            "---------\n",
            "Train loss: 0.37967 | Train accuracy: 0.86662%\n",
            "Test loss: 0.42984 | Test accuracy: 0.84495%\n",
            "\n"
          ]
        },
        {
          "name": "stderr",
          "output_type": "stream",
          "text": [
            " 50%|█████     | 15/30 [03:41<03:57, 15.85s/it]"
          ]
        },
        {
          "name": "stdout",
          "output_type": "stream",
          "text": [
            "Epoch: 15\n",
            "---------\n",
            "Train loss: 0.37550 | Train accuracy: 0.86888%\n",
            "Test loss: 0.43084 | Test accuracy: 0.84974%\n",
            "\n"
          ]
        },
        {
          "name": "stderr",
          "output_type": "stream",
          "text": [
            " 53%|█████▎    | 16/30 [03:57<03:43, 15.95s/it]"
          ]
        },
        {
          "name": "stdout",
          "output_type": "stream",
          "text": [
            "Epoch: 16\n",
            "---------\n",
            "Train loss: 0.37020 | Train accuracy: 0.87047%\n",
            "Test loss: 0.42484 | Test accuracy: 0.84744%\n",
            "\n"
          ]
        },
        {
          "name": "stderr",
          "output_type": "stream",
          "text": [
            " 57%|█████▋    | 17/30 [04:13<03:27, 16.00s/it]"
          ]
        },
        {
          "name": "stdout",
          "output_type": "stream",
          "text": [
            "Epoch: 17\n",
            "---------\n",
            "Train loss: 0.36760 | Train accuracy: 0.86985%\n",
            "Test loss: 0.44520 | Test accuracy: 0.84255%\n",
            "\n"
          ]
        },
        {
          "name": "stderr",
          "output_type": "stream",
          "text": [
            " 60%|██████    | 18/30 [04:30<03:12, 16.07s/it]"
          ]
        },
        {
          "name": "stdout",
          "output_type": "stream",
          "text": [
            "Epoch: 18\n",
            "---------\n",
            "Train loss: 0.36290 | Train accuracy: 0.87168%\n",
            "Test loss: 0.41303 | Test accuracy: 0.85074%\n",
            "\n"
          ]
        },
        {
          "name": "stderr",
          "output_type": "stream",
          "text": [
            " 63%|██████▎   | 19/30 [04:46<02:58, 16.27s/it]"
          ]
        },
        {
          "name": "stdout",
          "output_type": "stream",
          "text": [
            "Epoch: 19\n",
            "---------\n",
            "Train loss: 0.35936 | Train accuracy: 0.87343%\n",
            "Test loss: 0.41281 | Test accuracy: 0.85553%\n",
            "\n"
          ]
        },
        {
          "name": "stderr",
          "output_type": "stream",
          "text": [
            " 67%|██████▋   | 20/30 [05:02<02:42, 16.20s/it]"
          ]
        },
        {
          "name": "stdout",
          "output_type": "stream",
          "text": [
            "Epoch: 20\n",
            "---------\n",
            "Train loss: 0.35512 | Train accuracy: 0.87555%\n",
            "Test loss: 0.41418 | Test accuracy: 0.85523%\n",
            "\n"
          ]
        },
        {
          "name": "stderr",
          "output_type": "stream",
          "text": [
            " 70%|███████   | 21/30 [05:19<02:25, 16.18s/it]"
          ]
        },
        {
          "name": "stdout",
          "output_type": "stream",
          "text": [
            "Epoch: 21\n",
            "---------\n",
            "Train loss: 0.35251 | Train accuracy: 0.87592%\n",
            "Test loss: 0.40475 | Test accuracy: 0.85923%\n",
            "\n"
          ]
        },
        {
          "name": "stderr",
          "output_type": "stream",
          "text": [
            " 73%|███████▎  | 22/30 [05:34<02:08, 16.06s/it]"
          ]
        },
        {
          "name": "stdout",
          "output_type": "stream",
          "text": [
            "Epoch: 22\n",
            "---------\n",
            "Train loss: 0.34983 | Train accuracy: 0.87608%\n",
            "Test loss: 0.40214 | Test accuracy: 0.85823%\n",
            "\n"
          ]
        },
        {
          "name": "stderr",
          "output_type": "stream",
          "text": [
            " 77%|███████▋  | 23/30 [05:50<01:51, 15.97s/it]"
          ]
        },
        {
          "name": "stdout",
          "output_type": "stream",
          "text": [
            "Epoch: 23\n",
            "---------\n",
            "Train loss: 0.34671 | Train accuracy: 0.87733%\n",
            "Test loss: 0.39575 | Test accuracy: 0.85883%\n",
            "\n"
          ]
        },
        {
          "name": "stderr",
          "output_type": "stream",
          "text": [
            " 80%|████████  | 24/30 [06:06<01:35, 15.93s/it]"
          ]
        },
        {
          "name": "stdout",
          "output_type": "stream",
          "text": [
            "Epoch: 24\n",
            "---------\n",
            "Train loss: 0.34388 | Train accuracy: 0.87780%\n",
            "Test loss: 0.40258 | Test accuracy: 0.85743%\n",
            "\n"
          ]
        },
        {
          "name": "stderr",
          "output_type": "stream",
          "text": [
            " 83%|████████▎ | 25/30 [06:22<01:19, 15.92s/it]"
          ]
        },
        {
          "name": "stdout",
          "output_type": "stream",
          "text": [
            "Epoch: 25\n",
            "---------\n",
            "Train loss: 0.34081 | Train accuracy: 0.87972%\n",
            "Test loss: 0.40119 | Test accuracy: 0.86022%\n",
            "\n"
          ]
        },
        {
          "name": "stderr",
          "output_type": "stream",
          "text": [
            " 87%|████████▋ | 26/30 [06:38<01:03, 15.91s/it]"
          ]
        },
        {
          "name": "stdout",
          "output_type": "stream",
          "text": [
            "Epoch: 26\n",
            "---------\n",
            "Train loss: 0.33944 | Train accuracy: 0.87905%\n",
            "Test loss: 0.39390 | Test accuracy: 0.85982%\n",
            "\n"
          ]
        },
        {
          "name": "stderr",
          "output_type": "stream",
          "text": [
            " 90%|█████████ | 27/30 [06:54<00:47, 15.92s/it]"
          ]
        },
        {
          "name": "stdout",
          "output_type": "stream",
          "text": [
            "Epoch: 27\n",
            "---------\n",
            "Train loss: 0.33646 | Train accuracy: 0.88087%\n",
            "Test loss: 0.38894 | Test accuracy: 0.86172%\n",
            "\n"
          ]
        },
        {
          "name": "stderr",
          "output_type": "stream",
          "text": [
            " 93%|█████████▎| 28/30 [07:10<00:31, 15.90s/it]"
          ]
        },
        {
          "name": "stdout",
          "output_type": "stream",
          "text": [
            "Epoch: 28\n",
            "---------\n",
            "Train loss: 0.33406 | Train accuracy: 0.88137%\n",
            "Test loss: 0.39700 | Test accuracy: 0.85873%\n",
            "\n"
          ]
        },
        {
          "name": "stderr",
          "output_type": "stream",
          "text": [
            " 97%|█████████▋| 29/30 [07:25<00:15, 15.92s/it]"
          ]
        },
        {
          "name": "stdout",
          "output_type": "stream",
          "text": [
            "Epoch: 29\n",
            "---------\n",
            "Train loss: 0.33114 | Train accuracy: 0.88190%\n",
            "Test loss: 0.39152 | Test accuracy: 0.86352%\n",
            "\n"
          ]
        },
        {
          "name": "stderr",
          "output_type": "stream",
          "text": [
            "100%|██████████| 30/30 [07:41<00:00, 15.40s/it]\n"
          ]
        }
      ],
      "source": [
        "torch.manual_seed(42)\n",
        "\n",
        "epochs = 30\n",
        "\n",
        "for epoch in tqdm(range(epochs)):\n",
        "\n",
        "    \n",
        "    print(f\"Epoch: {epoch}\\n---------\")\n",
        "    train_step(train_dl=train_dl, \n",
        "        model=model_1, \n",
        "        loss_fn=loss_fn,\n",
        "        optimizer=optimizer,\n",
        "        accuracy_fn=accuracy_score\n",
        "    )\n",
        "\n",
        "\n",
        "    test_step(test_dl=test_dl,\n",
        "        model=model_1,\n",
        "        loss_fn=loss_fn,\n",
        "        accuracy_fn=accuracy_score\n",
        "    )\n"
      ]
    },
    {
      "cell_type": "code",
      "execution_count": 29,
      "metadata": {},
      "outputs": [
        {
          "data": {
            "text/plain": [
              "{'model_name': FashionMNIST(\n",
              "   (layer_stack): Sequential(\n",
              "     (0): Flatten(start_dim=1, end_dim=-1)\n",
              "     (1): Linear(in_features=784, out_features=16, bias=True)\n",
              "     (2): ReLU()\n",
              "     (3): Linear(in_features=16, out_features=16, bias=True)\n",
              "     (4): ReLU()\n",
              "     (5): Linear(in_features=16, out_features=10, bias=True)\n",
              "   )\n",
              " ),\n",
              " 'train_loss': 0.3211425244808197,\n",
              " 'train_accuracy': 0.8858166933059692,\n",
              " 'test_accuracy': 0.8635183572769165}"
            ]
          },
          "execution_count": 29,
          "metadata": {},
          "output_type": "execute_result"
        }
      ],
      "source": [
        "eval_model(model=model_1 , train_dl=train_dl,test_dl=test_dl,loss_fn=loss_fn,accuracy_fn=accuracy_score)"
      ]
    },
    {
      "cell_type": "markdown",
      "metadata": {},
      "source": [
        "## 6. Make and evaluate random predictions with best model\n",
        "\n",
        "Alright, we've compared our models to each other, let's further evaluate our best performing model, `model_2`.\n",
        "\n",
        "To do so, let's create a function `make_predictions()` where we can pass the model and some data for it to predict on."
      ]
    },
    {
      "cell_type": "code",
      "execution_count": 81,
      "metadata": {},
      "outputs": [
        {
          "data": {
            "text/plain": [
              "([1, 1, 5, 5, 4, 9, 4, 7, 7, 3, 0, 8, 2, 1, 5, 3],\n",
              " tensor([1, 1, 5, 5, 4, 9, 4, 7, 7, 3, 0, 8, 4, 1, 5, 3]))"
            ]
          },
          "execution_count": 81,
          "metadata": {},
          "output_type": "execute_result"
        }
      ],
      "source": [
        "def make_predictions(model: torch.nn.Module, data: list, device: torch.device = device):\n",
        "    pred_probs = []\n",
        "    model.eval()\n",
        "    with torch.inference_mode():\n",
        "        for sample in data:\n",
        "            # Prepare sample\n",
        "            sample = torch.unsqueeze(sample, dim=0).to(device) # Add an extra dimension and send sample to device\n",
        "\n",
        "            # Forward pass (model outputs raw logit)\n",
        "            pred_logit = model(sample)\n",
        "\n",
        "            # Get prediction probability (logit -> prediction probability)\n",
        "            pred_prob = torch.softmax(pred_logit.squeeze(), dim=0) # note: perform softmax on the \"logits\" dimension, not \"batch\" dimension (in this case we have a batch size of 1, so can perform on dim=0)\n",
        "\n",
        "            # Get pred_prob off GPU for further calculations\n",
        "            pred_probs.append(pred_prob.cpu())\n",
        "            \n",
        "    # Stack the pred_probs to turn list into a tensor\n",
        "    return torch.stack(pred_probs)\n",
        "\n",
        "import random\n",
        "random.seed(69)\n",
        "test_samples = []\n",
        "test_labels = []\n",
        "for sample, label in random.sample(list(test_data), k=16):\n",
        "    test_samples.append(sample)\n",
        "    test_labels.append(label)\n",
        "\n",
        "pred_probs= make_predictions(model=model_1, \n",
        "                             data=test_samples)\n",
        "\n",
        "pred_classes = pred_probs.argmax(dim=1)\n",
        "pred_classes\n",
        "\n",
        "test_labels, pred_classes"
      ]
    },
    {
      "cell_type": "code",
      "execution_count": 83,
      "metadata": {},
      "outputs": [
        {
          "data": {
            "image/png": "[encoded data removed]",
            "text/plain": [
              "<Figure size 1200x1200 with 16 Axes>"
            ]
          },
          "metadata": {},
          "output_type": "display_data"
        }
      ],
      "source": [
        "# Plot predictions\n",
        "plt.figure(figsize=(12, 12))\n",
        "nrows = 4\n",
        "ncols = 4\n",
        "for i, sample in enumerate(test_samples):\n",
        "  # Create a subplot\n",
        "  plt.subplot(nrows, ncols, i+1)\n",
        "\n",
        "  # Plot the target image\n",
        "  plt.imshow(sample.squeeze(), cmap=\"gray\")\n",
        "\n",
        "  # Find the prediction label (in text form, e.g. \"Sandal\")\n",
        "  pred_label = class_names[pred_classes[i]]\n",
        "\n",
        "  # Get the truth label (in text form, e.g. \"T-shirt\")\n",
        "  truth_label = class_names[test_labels[i]] \n",
        "\n",
        "  # Create the title text of the plot\n",
        "  title_text = f\"Pred: {pred_label} | Truth: {truth_label}\"\n",
        "  \n",
        "  # Check for equality and change title colour accordingly\n",
        "  if pred_label == truth_label:\n",
        "      plt.title(title_text, fontsize=10, c=\"g\") # green text if correct\n",
        "  else:\n",
        "      plt.title(title_text, fontsize=10, c=\"r\") # red text if wrong\n",
        "  plt.axis(False);"
      ]
    },
    {
      "cell_type": "markdown",
      "metadata": {},
      "source": [
        "## 7. Making a confusion matrix for further prediction evaluation\n",
        "\n",
        "There are many [different evaluation metrics](https://www.learnpytorch.io/02_pytorch_classification/#9-more-classification-evaluation-metrics) we can use for classification problems. \n",
        "\n",
        "One of the most visual is a [confusion matrix](https://www.dataschool.io/simple-guide-to-confusion-matrix-terminology/).\n",
        "\n",
        "A confusion matrix shows you where your classification model got confused between predicitons and true labels.\n",
        "\n",
        "To make a confusion matrix, we'll go through three steps:\n",
        "1. Make predictions with our trained model, `model_2` (a confusion matrix compares predictions to true labels).\n",
        "2. Make a confusion matrix using [`torchmetrics.ConfusionMatrix`](https://torchmetrics.readthedocs.io/en/latest/references/modules.html?highlight=confusion#confusionmatrix).\n",
        "3. Plot the confusion matrix using [`mlxtend.plotting.plot_confusion_matrix()`](http://rasbt.github.io/mlxtend/user_guide/plotting/plot_confusion_matrix/).\n",
        "\n",
        "Let's start by making predictions with our trained model."
      ]
    },
    {
      "cell_type": "code",
      "execution_count": 85,
      "metadata": {},
      "outputs": [
        {
          "name": "stderr",
          "output_type": "stream",
          "text": [
            "Making predictions: 100%|██████████| 313/313 [00:00<00:00, 320.77it/s]\n"
          ]
        },
        {
          "data": {
            "text/plain": [
              "tensor([9, 2, 1,  ..., 8, 1, 5])"
            ]
          },
          "execution_count": 85,
          "metadata": {},
          "output_type": "execute_result"
        }
      ],
      "source": [
        "def get_preds(model , dataloader):\n",
        "    from tqdm.auto import tqdm\n",
        "    y_preds = []\n",
        "    model.eval()\n",
        "    with torch.inference_mode():\n",
        "        for X, y in tqdm(dataloader, desc=\"Making predictions\"):\n",
        "            \n",
        "            X, y = X.to(device), y.to(device)\n",
        "            \n",
        "            y_logit = model(X)\n",
        "            \n",
        "            y_pred = torch.softmax(y_logit, dim=1).argmax(dim=1) \n",
        "            \n",
        "            y_preds.append(y_pred.cpu())\n",
        "    \n",
        "    y_pred_tensor = torch.cat(y_preds)\n",
        "    return y_pred_tensor\n",
        "test_preds = get_preds(model_1 , test_dl)\n",
        "test_preds"
      ]
    },
    {
      "cell_type": "code",
      "execution_count": 86,
      "metadata": {},
      "outputs": [
        {
          "name": "stderr",
          "output_type": "stream",
          "text": [
            "Making predictions: 100%|██████████| 1875/1875 [00:06<00:00, 296.45it/s]\n"
          ]
        },
        {
          "data": {
            "text/plain": [
              "tensor([9, 0, 9,  ..., 6, 0, 1])"
            ]
          },
          "execution_count": 86,
          "metadata": {},
          "output_type": "execute_result"
        }
      ],
      "source": [
        "train_preds = get_preds(model_1 , train_dl)\n",
        "train_preds"
      ]
    },
    {
      "cell_type": "code",
      "execution_count": 92,
      "metadata": {},
      "outputs": [
        {
          "data": {
            "text/plain": [
              "tensor([9, 0, 0,  ..., 3, 0, 5])"
            ]
          },
          "execution_count": 92,
          "metadata": {},
          "output_type": "execute_result"
        }
      ],
      "source": [
        "train_data.targets"
      ]
    },
    {
      "cell_type": "code",
      "execution_count": 87,
      "metadata": {},
      "outputs": [
        {
          "data": {
            "text/plain": [
              "(tensor([9, 2, 1,  ..., 8, 1, 5]), tensor([9, 2, 1,  ..., 8, 1, 5]))"
            ]
          },
          "execution_count": 87,
          "metadata": {},
          "output_type": "execute_result"
        }
      ],
      "source": [
        "test_preds , test_data.targets"
      ]
    },
    {
      "cell_type": "code",
      "execution_count": 88,
      "metadata": {},
      "outputs": [
        {
          "data": {
            "text/plain": [
              "array([[783,   4,  10,  65,   4,   2, 121,   0,  11,   0],\n",
              "       [  2, 961,   0,  29,   5,   0,   2,   0,   1,   0],\n",
              "       [ 12,   3, 748,  15, 136,   1,  82,   0,   3,   0],\n",
              "       [ 13,  13,   6, 909,  28,   1,  26,   0,   4,   0],\n",
              "       [  1,   2,  72,  50, 815,   0,  58,   0,   2,   0],\n",
              "       [  0,   0,   0,   0,   0, 948,   0,  31,   4,  17],\n",
              "       [104,   4, 104,  51,  91,   0, 629,   0,  17,   0],\n",
              "       [  0,   0,   0,   0,   0,  29,   0, 943,   0,  28],\n",
              "       [  8,   2,   3,  10,   6,   6,  10,   4, 951,   0],\n",
              "       [  0,   0,   0,   0,   0,  14,   0,  38,   1, 947]], dtype=int64)"
            ]
          },
          "execution_count": 88,
          "metadata": {},
          "output_type": "execute_result"
        }
      ],
      "source": [
        "from torchmetrics import ConfusionMatrix\n",
        "cf = ConfusionMatrix(num_classes=len(class_names), task='multiclass')\n",
        "\n",
        "cf_array = cf(preds = test_preds,target = test_data.targets).detach().numpy()\n",
        "cf_array"
      ]
    },
    {
      "cell_type": "code",
      "execution_count": 89,
      "metadata": {},
      "outputs": [
        {
          "data": {
            "image/png": "[encoded data removed]",
            "text/plain": [
              "<Figure size 1000x800 with 2 Axes>"
            ]
          },
          "metadata": {},
          "output_type": "display_data"
        }
      ],
      "source": [
        "import seaborn as sns \n",
        "plt.figure(figsize=(10,8))\n",
        "sns.heatmap(cf_array , annot=True  , cmap='Blues')\n",
        "plt.xlabel('Predicted')\n",
        "plt.ylabel('Target')\n",
        "plt.title(f' Confusion Matrix for test Dataset' ) \n",
        "plt.show()"
      ]
    },
    {
      "cell_type": "code",
      "execution_count": 93,
      "metadata": {},
      "outputs": [
        {
          "name": "stdout",
          "output_type": "stream",
          "text": [
            "train accuracy : 0.8633999824523926\n"
          ]
        }
      ],
      "source": [
        "print(f'test accuracy : {accuracy_score(test_preds,test_data.targets )}')"
      ]
    },
    {
      "cell_type": "code",
      "execution_count": null,
      "metadata": {},
      "outputs": [],
      "source": []
    }
  ],
  "metadata": {
    "accelerator": "GPU",
    "colab": {
      "gpuType": "T4",
      "provenance": []
    },
    "kernelspec": {
      "display_name": "Python 3",
      "name": "python3"
    },
    "language_info": {
      "codemirror_mode": {
        "name": "ipython",
        "version": 3
      },
      "file_extension": ".py",
      "mimetype": "text/x-python",
      "name": "python",
      "nbconvert_exporter": "python",
      "pygments_lexer": "ipython3",
      "version": "3.11.4"
    },
    "widgets": {
      "application/vnd.jupyter.widget-state+json": {
        "4dc6405329db45d29787b58c27294103": {
          "model_module": "@jupyter-widgets/base",
          "model_module_version": "1.2.0",
          "model_name": "LayoutModel",
          "state": {
            "_model_module": "@jupyter-widgets/base",
            "_model_module_version": "1.2.0",
            "_model_name": "LayoutModel",
            "_view_count": null,
            "_view_module": "@jupyter-widgets/base",
            "_view_module_version": "1.2.0",
            "_view_name": "LayoutView",
            "align_content": null,
            "align_items": null,
            "align_self": null,
            "border": null,
            "bottom": null,
            "display": null,
            "flex": null,
            "flex_flow": null,
            "grid_area": null,
            "grid_auto_columns": null,
            "grid_auto_flow": null,
            "grid_auto_rows": null,
            "grid_column": null,
            "grid_gap": null,
            "grid_row": null,
            "grid_template_areas": null,
            "grid_template_columns": null,
            "grid_template_rows": null,
            "height": null,
            "justify_content": null,
            "justify_items": null,
            "left": null,
            "margin": null,
            "max_height": null,
            "max_width": null,
            "min_height": null,
            "min_width": null,
            "object_fit": null,
            "object_position": null,
            "order": null,
            "overflow": null,
            "overflow_x": null,
            "overflow_y": null,
            "padding": null,
            "right": null,
            "top": null,
            "visibility": null,
            "width": null
          }
        },
        "785f9d490b9a45e9b155cdb0fcc506d0": {
          "model_module": "@jupyter-widgets/controls",
          "model_module_version": "1.5.0",
          "model_name": "FloatProgressModel",
          "state": {
            "_dom_classes": [],
            "_model_module": "@jupyter-widgets/controls",
            "_model_module_version": "1.5.0",
            "_model_name": "FloatProgressModel",
            "_view_count": null,
            "_view_module": "@jupyter-widgets/controls",
            "_view_module_version": "1.5.0",
            "_view_name": "ProgressView",
            "bar_style": "success",
            "description": "",
            "description_tooltip": null,
            "layout": "IPY_MODEL_cf8203b30a2045f18f1b5385aa3000d3",
            "max": 15,
            "min": 0,
            "orientation": "horizontal",
            "style": "IPY_MODEL_a33e35fea3c34a45ac38fbbf1667edb2",
            "value": 15
          }
        },
        "7bcaea932a6646bb902ea8ca1850baca": {
          "model_module": "@jupyter-widgets/controls",
          "model_module_version": "1.5.0",
          "model_name": "DescriptionStyleModel",
          "state": {
            "_model_module": "@jupyter-widgets/controls",
            "_model_module_version": "1.5.0",
            "_model_name": "DescriptionStyleModel",
            "_view_count": null,
            "_view_module": "@jupyter-widgets/base",
            "_view_module_version": "1.2.0",
            "_view_name": "StyleView",
            "description_width": ""
          }
        },
        "8c690d2dda1d49309ef011f4580cbe5e": {
          "model_module": "@jupyter-widgets/base",
          "model_module_version": "1.2.0",
          "model_name": "LayoutModel",
          "state": {
            "_model_module": "@jupyter-widgets/base",
            "_model_module_version": "1.2.0",
            "_model_name": "LayoutModel",
            "_view_count": null,
            "_view_module": "@jupyter-widgets/base",
            "_view_module_version": "1.2.0",
            "_view_name": "LayoutView",
            "align_content": null,
            "align_items": null,
            "align_self": null,
            "border": null,
            "bottom": null,
            "display": null,
            "flex": null,
            "flex_flow": null,
            "grid_area": null,
            "grid_auto_columns": null,
            "grid_auto_flow": null,
            "grid_auto_rows": null,
            "grid_column": null,
            "grid_gap": null,
            "grid_row": null,
            "grid_template_areas": null,
            "grid_template_columns": null,
            "grid_template_rows": null,
            "height": null,
            "justify_content": null,
            "justify_items": null,
            "left": null,
            "margin": null,
            "max_height": null,
            "max_width": null,
            "min_height": null,
            "min_width": null,
            "object_fit": null,
            "object_position": null,
            "order": null,
            "overflow": null,
            "overflow_x": null,
            "overflow_y": null,
            "padding": null,
            "right": null,
            "top": null,
            "visibility": null,
            "width": null
          }
        },
        "930861f5f56b4f5dbf37fe375b52ded9": {
          "model_module": "@jupyter-widgets/controls",
          "model_module_version": "1.5.0",
          "model_name": "HBoxModel",
          "state": {
            "_dom_classes": [],
            "_model_module": "@jupyter-widgets/controls",
            "_model_module_version": "1.5.0",
            "_model_name": "HBoxModel",
            "_view_count": null,
            "_view_module": "@jupyter-widgets/controls",
            "_view_module_version": "1.5.0",
            "_view_name": "HBoxView",
            "box_style": "",
            "children": [
              "IPY_MODEL_9f344c69d663426bb95ed51c84a07154",
              "IPY_MODEL_785f9d490b9a45e9b155cdb0fcc506d0",
              "IPY_MODEL_b8ff0d6408c34534b4cc59e664138547"
            ],
            "layout": "IPY_MODEL_4dc6405329db45d29787b58c27294103"
          }
        },
        "9f344c69d663426bb95ed51c84a07154": {
          "model_module": "@jupyter-widgets/controls",
          "model_module_version": "1.5.0",
          "model_name": "HTMLModel",
          "state": {
            "_dom_classes": [],
            "_model_module": "@jupyter-widgets/controls",
            "_model_module_version": "1.5.0",
            "_model_name": "HTMLModel",
            "_view_count": null,
            "_view_module": "@jupyter-widgets/controls",
            "_view_module_version": "1.5.0",
            "_view_name": "HTMLView",
            "description": "",
            "description_tooltip": null,
            "layout": "IPY_MODEL_8c690d2dda1d49309ef011f4580cbe5e",
            "placeholder": "​",
            "style": "IPY_MODEL_7bcaea932a6646bb902ea8ca1850baca",
            "value": "100%"
          }
        },
        "a33e35fea3c34a45ac38fbbf1667edb2": {
          "model_module": "@jupyter-widgets/controls",
          "model_module_version": "1.5.0",
          "model_name": "ProgressStyleModel",
          "state": {
            "_model_module": "@jupyter-widgets/controls",
            "_model_module_version": "1.5.0",
            "_model_name": "ProgressStyleModel",
            "_view_count": null,
            "_view_module": "@jupyter-widgets/base",
            "_view_module_version": "1.2.0",
            "_view_name": "StyleView",
            "bar_color": null,
            "description_width": ""
          }
        },
        "b8ff0d6408c34534b4cc59e664138547": {
          "model_module": "@jupyter-widgets/controls",
          "model_module_version": "1.5.0",
          "model_name": "HTMLModel",
          "state": {
            "_dom_classes": [],
            "_model_module": "@jupyter-widgets/controls",
            "_model_module_version": "1.5.0",
            "_model_name": "HTMLModel",
            "_view_count": null,
            "_view_module": "@jupyter-widgets/controls",
            "_view_module_version": "1.5.0",
            "_view_name": "HTMLView",
            "description": "",
            "description_tooltip": null,
            "layout": "IPY_MODEL_f764c4cfbebe455687a79f58f1c36755",
            "placeholder": "​",
            "style": "IPY_MODEL_eac6257c94c04f0eb57cf1414539f475",
            "value": " 15/15 [03:04&lt;00:00, 11.85s/it]"
          }
        },
        "cf8203b30a2045f18f1b5385aa3000d3": {
          "model_module": "@jupyter-widgets/base",
          "model_module_version": "1.2.0",
          "model_name": "LayoutModel",
          "state": {
            "_model_module": "@jupyter-widgets/base",
            "_model_module_version": "1.2.0",
            "_model_name": "LayoutModel",
            "_view_count": null,
            "_view_module": "@jupyter-widgets/base",
            "_view_module_version": "1.2.0",
            "_view_name": "LayoutView",
            "align_content": null,
            "align_items": null,
            "align_self": null,
            "border": null,
            "bottom": null,
            "display": null,
            "flex": null,
            "flex_flow": null,
            "grid_area": null,
            "grid_auto_columns": null,
            "grid_auto_flow": null,
            "grid_auto_rows": null,
            "grid_column": null,
            "grid_gap": null,
            "grid_row": null,
            "grid_template_areas": null,
            "grid_template_columns": null,
            "grid_template_rows": null,
            "height": null,
            "justify_content": null,
            "justify_items": null,
            "left": null,
            "margin": null,
            "max_height": null,
            "max_width": null,
            "min_height": null,
            "min_width": null,
            "object_fit": null,
            "object_position": null,
            "order": null,
            "overflow": null,
            "overflow_x": null,
            "overflow_y": null,
            "padding": null,
            "right": null,
            "top": null,
            "visibility": null,
            "width": null
          }
        },
        "eac6257c94c04f0eb57cf1414539f475": {
          "model_module": "@jupyter-widgets/controls",
          "model_module_version": "1.5.0",
          "model_name": "DescriptionStyleModel",
          "state": {
            "_model_module": "@jupyter-widgets/controls",
            "_model_module_version": "1.5.0",
            "_model_name": "DescriptionStyleModel",
            "_view_count": null,
            "_view_module": "@jupyter-widgets/base",
            "_view_module_version": "1.2.0",
            "_view_name": "StyleView",
            "description_width": ""
          }
        },
        "f764c4cfbebe455687a79f58f1c36755": {
          "model_module": "@jupyter-widgets/base",
          "model_module_version": "1.2.0",
          "model_name": "LayoutModel",
          "state": {
            "_model_module": "@jupyter-widgets/base",
            "_model_module_version": "1.2.0",
            "_model_name": "LayoutModel",
            "_view_count": null,
            "_view_module": "@jupyter-widgets/base",
            "_view_module_version": "1.2.0",
            "_view_name": "LayoutView",
            "align_content": null,
            "align_items": null,
            "align_self": null,
            "border": null,
            "bottom": null,
            "display": null,
            "flex": null,
            "flex_flow": null,
            "grid_area": null,
            "grid_auto_columns": null,
            "grid_auto_flow": null,
            "grid_auto_rows": null,
            "grid_column": null,
            "grid_gap": null,
            "grid_row": null,
            "grid_template_areas": null,
            "grid_template_columns": null,
            "grid_template_rows": null,
            "height": null,
            "justify_content": null,
            "justify_items": null,
            "left": null,
            "margin": null,
            "max_height": null,
            "max_width": null,
            "min_height": null,
            "min_width": null,
            "object_fit": null,
            "object_position": null,
            "order": null,
            "overflow": null,
            "overflow_x": null,
            "overflow_y": null,
            "padding": null,
            "right": null,
            "top": null,
            "visibility": null,
            "width": null
          }
        }
      }
    }
  },
  "nbformat": 4,
  "nbformat_minor": 0
}
