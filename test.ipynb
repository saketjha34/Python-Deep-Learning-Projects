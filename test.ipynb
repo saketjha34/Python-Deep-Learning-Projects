{
 "cells": [
  {
   "cell_type": "code",
   "execution_count": 5,
   "metadata": {},
   "outputs": [],
   "source": [
    "from PIL import Image\n",
    "from torchvision.transforms import v2 , transforms\n",
    "import torch\n",
    "img_path = 'styles/style (20).jpg'\n",
    "image_transforms = transforms.Compose([\n",
    "        v2.Resize(size = (720,720)),\n",
    "        v2.CenterCrop(((720,720))),\n",
    "        transforms.ToTensor(),\n",
    "    ])"
   ]
  },
  {
   "cell_type": "code",
   "execution_count": 6,
   "metadata": {},
   "outputs": [],
   "source": [
    "def load_image(img_path: str, \n",
    "               image_transforms: transforms.Compose) -> torch.Tensor:\n",
    "    \"\"\"\n",
    "    Loads an image from the specified file path, applies the given transformations,\n",
    "    and returns it as a tensor suitable for input to a PyTorch model.\n",
    "\n",
    "    Args:\n",
    "        img_path (str): The file path to the image to be loaded.\n",
    "        image_transforms (transforms.Compose): A composition of transformations to be applied to the image.\n",
    "\n",
    "    Returns:\n",
    "        torch.Tensor: The transformed image as a tensor, with an added batch dimension, and moved to the specified device.\n",
    "\n",
    "    Example:\n",
    "        image_transforms = transforms.Compose([\n",
    "            transforms.Resize((224, 224)),\n",
    "            transforms.ToTensor(),\n",
    "            transforms.Normalize(mean=[0.485, 0.456, 0.406], std=[0.229, 0.224, 0.225]),\n",
    "        ])\n",
    "        image_tensor = load_image('path/to/image.jpg', image_transforms)\n",
    "    \"\"\"\n",
    "    image = Image.open(img_path)\n",
    "    return image_transforms(image).unsqueeze(0)"
   ]
  },
  {
   "cell_type": "code",
   "execution_count": 10,
   "metadata": {},
   "outputs": [
    {
     "data": {
      "text/plain": [
       "torch.Size([1, 3, 720, 720])"
      ]
     },
     "execution_count": 10,
     "metadata": {},
     "output_type": "execute_result"
    }
   ],
   "source": [
    "img = load_image(img_path, image_transforms)\n",
    "img.shape"
   ]
  },
  {
   "cell_type": "code",
   "execution_count": null,
   "metadata": {},
   "outputs": [],
   "source": []
  }
 ],
 "metadata": {
  "kernelspec": {
   "display_name": "venv",
   "language": "python",
   "name": "python3"
  },
  "language_info": {
   "codemirror_mode": {
    "name": "ipython",
    "version": 3
   },
   "file_extension": ".py",
   "mimetype": "text/x-python",
   "name": "python",
   "nbconvert_exporter": "python",
   "pygments_lexer": "ipython3",
   "version": "3.11.4"
  }
 },
 "nbformat": 4,
 "nbformat_minor": 2
}
